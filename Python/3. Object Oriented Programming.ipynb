{
 "cells": [
  {
   "cell_type": "markdown",
   "id": "1597893b",
   "metadata": {
    "hide_input": true
   },
   "source": [
    "## Class Objects\n",
    "\n",
    "The main concept of object oriented programming is creating classes in Python.\n",
    "\n",
    "Every class defined must contain the following basic syntax:\n",
    "\n",
    "<b>class Class_Name():</b> <br>\n",
    "&emsp;&emsp;<b>def &lowbar;&lowbar;init&lowbar;&lowbar; (self, var1, var2, ... ):</b> <br>\n",
    "&emsp;&emsp;&emsp;&emsp;<b>self.var1 = var1</b> <br>\n",
    "&emsp;&emsp;&emsp;&emsp;<b>self.var2 = var2</b> <br>\n",
    "&emsp;&emsp;&emsp;&emsp;...\n",
    "\n",
    "Note that <b>self</b> keyword can be used to represent the instance of a class for accessing attributes and methods of a given class."
   ]
  },
  {
   "cell_type": "code",
   "execution_count": 1,
   "id": "04f57c0b",
   "metadata": {},
   "outputs": [],
   "source": [
    "class laptops():\n",
    "    # Class constructor\n",
    "    def __init__ (self, width, height, gpu, os):\n",
    "        #Assigning instance variables\n",
    "        self.width = width\n",
    "        self.height = height\n",
    "        self.gpu = gpu\n",
    "        self.os = os\n",
    "    def performance (self):\n",
    "        return \"This laptop has {} gpu\".format(self.gpu)"
   ]
  },
  {
   "cell_type": "code",
   "execution_count": 2,
   "id": "3eac7b1f",
   "metadata": {},
   "outputs": [],
   "source": [
    "# Define objects from laptops class\n",
    "acer = laptops(450,450,2,\"Windows\")\n",
    "hp = laptops(650, 200, 1, \"Ubuntu\")"
   ]
  },
  {
   "cell_type": "code",
   "execution_count": 3,
   "id": "1a9413c7",
   "metadata": {},
   "outputs": [
    {
     "data": {
      "text/plain": [
       "(<__main__.laptops at 0x16f67db9880>, <__main__.laptops at 0x16f67db9af0>)"
      ]
     },
     "execution_count": 3,
     "metadata": {},
     "output_type": "execute_result"
    }
   ],
   "source": [
    "# Memory location of objects from laptops class\n",
    "acer, hp"
   ]
  },
  {
   "cell_type": "code",
   "execution_count": 4,
   "id": "84f074aa",
   "metadata": {},
   "outputs": [
    {
     "data": {
      "text/plain": [
       "['__class__',\n",
       " '__delattr__',\n",
       " '__dict__',\n",
       " '__dir__',\n",
       " '__doc__',\n",
       " '__eq__',\n",
       " '__format__',\n",
       " '__ge__',\n",
       " '__getattribute__',\n",
       " '__gt__',\n",
       " '__hash__',\n",
       " '__init__',\n",
       " '__init_subclass__',\n",
       " '__le__',\n",
       " '__lt__',\n",
       " '__module__',\n",
       " '__ne__',\n",
       " '__new__',\n",
       " '__reduce__',\n",
       " '__reduce_ex__',\n",
       " '__repr__',\n",
       " '__setattr__',\n",
       " '__sizeof__',\n",
       " '__str__',\n",
       " '__subclasshook__',\n",
       " '__weakref__',\n",
       " 'gpu',\n",
       " 'height',\n",
       " 'os',\n",
       " 'performance',\n",
       " 'width']"
      ]
     },
     "execution_count": 4,
     "metadata": {},
     "output_type": "execute_result"
    }
   ],
   "source": [
    "dir(acer)"
   ]
  },
  {
   "cell_type": "code",
   "execution_count": 5,
   "id": "070963c6",
   "metadata": {},
   "outputs": [
    {
     "name": "stdout",
     "output_type": "stream",
     "text": [
      "acer: 450 450 2 Windows\n",
      "hp: 650 200 1 Ubuntu\n"
     ]
    }
   ],
   "source": [
    "# Display instance variables set by objects from laptops class\n",
    "print(\"acer:\", acer.width, acer.height, acer.gpu, acer.os)\n",
    "print(\"hp:\", hp.width, hp.height, hp.gpu, hp.os)"
   ]
  },
  {
   "cell_type": "code",
   "execution_count": 6,
   "id": "adfc5b61",
   "metadata": {},
   "outputs": [
    {
     "name": "stdout",
     "output_type": "stream",
     "text": [
      "This laptop has 2 gpu\n",
      "This laptop has 1 gpu\n"
     ]
    }
   ],
   "source": [
    "# Using functions defined inside laptops class\n",
    "print(acer.performance())\n",
    "print(hp.performance())"
   ]
  },
  {
   "cell_type": "markdown",
   "id": "45f95178",
   "metadata": {},
   "source": [
    "## Public, Protected and Private Class Variables\n",
    "\n",
    "Unlike other programming languages like Java or C++, Python has no restriction for accessing and modifying class variables defined. However, indication of variable access can be provided in Python as follows:\n",
    "\n",
    "1. Public variables: <b>self.var1 = var1</b> (Variables can be accessed and modified from anywhere)\n",
    "\n",
    "2. Protected variables: <b>self._var1 = var1</b> (Variables can be accessed and modified from child class only)\n",
    "\n",
    "3. Private variables: <b>self.&lowbar;&lowbar;var1 = var1</b> (Variables can be accessed and modified from specific class only where variable is defined)\n",
    "\n",
    "The concept of defining protected or private variables is known as <b>Encapsulation</b>.\n",
    "\n",
    "Regardless of variable type defined in a class, variables can still be easily accessed and modified from any part of the program in Python."
   ]
  },
  {
   "cell_type": "code",
   "execution_count": 7,
   "id": "428d4a4f",
   "metadata": {},
   "outputs": [],
   "source": [
    "class laptops():\n",
    "    # Class constructor with public instance variables\n",
    "    def __init__ (self, width, height, gpu, os):\n",
    "        self.width = width\n",
    "        self.height = height\n",
    "        self.gpu = gpu\n",
    "        self.os = os"
   ]
  },
  {
   "cell_type": "code",
   "execution_count": 8,
   "id": "7f14bc0f",
   "metadata": {},
   "outputs": [],
   "source": [
    "# Define objects from laptops class\n",
    "acer = laptops(450,450,2,\"Windows\")"
   ]
  },
  {
   "cell_type": "code",
   "execution_count": 9,
   "id": "aabf9606",
   "metadata": {
    "scrolled": true
   },
   "outputs": [
    {
     "data": {
      "text/plain": [
       "['__class__',\n",
       " '__delattr__',\n",
       " '__dict__',\n",
       " '__dir__',\n",
       " '__doc__',\n",
       " '__eq__',\n",
       " '__format__',\n",
       " '__ge__',\n",
       " '__getattribute__',\n",
       " '__gt__',\n",
       " '__hash__',\n",
       " '__init__',\n",
       " '__init_subclass__',\n",
       " '__le__',\n",
       " '__lt__',\n",
       " '__module__',\n",
       " '__ne__',\n",
       " '__new__',\n",
       " '__reduce__',\n",
       " '__reduce_ex__',\n",
       " '__repr__',\n",
       " '__setattr__',\n",
       " '__sizeof__',\n",
       " '__str__',\n",
       " '__subclasshook__',\n",
       " '__weakref__',\n",
       " 'gpu',\n",
       " 'height',\n",
       " 'os',\n",
       " 'width']"
      ]
     },
     "execution_count": 9,
     "metadata": {},
     "output_type": "execute_result"
    }
   ],
   "source": [
    "dir(acer)"
   ]
  },
  {
   "cell_type": "code",
   "execution_count": 10,
   "id": "7ac934b9",
   "metadata": {},
   "outputs": [
    {
     "data": {
      "text/plain": [
       "(2, 450, 'Windows', 450)"
      ]
     },
     "execution_count": 10,
     "metadata": {},
     "output_type": "execute_result"
    }
   ],
   "source": [
    "#Public variables with direct access\n",
    "acer.gpu, acer.height, acer.os, acer.width"
   ]
  },
  {
   "cell_type": "code",
   "execution_count": 11,
   "id": "1c8e1e12",
   "metadata": {},
   "outputs": [],
   "source": [
    "class laptops():\n",
    "    # Parent class constructor with protected instance variables\n",
    "    def __init__ (self, width, height, gpu, os):\n",
    "        self._width = width\n",
    "        self._height = height\n",
    "        self._gpu = gpu\n",
    "        self._os = os\n",
    "\n",
    "class computers(laptops):\n",
    "    # Child class constructor of laptops with public instance variables (ram and cpu)\n",
    "    def __init__ (self, width, height, gpu, os, ram, cpu):\n",
    "        super().__init__(width, height, gpu, os)\n",
    "        self.ram = ram\n",
    "        self.cpu = cpu"
   ]
  },
  {
   "cell_type": "code",
   "execution_count": 12,
   "id": "2b786296",
   "metadata": {},
   "outputs": [],
   "source": [
    "comp1 = computers(450,450,2,\"Windows\", \"16gb\", 4)"
   ]
  },
  {
   "cell_type": "code",
   "execution_count": 13,
   "id": "a4aa233b",
   "metadata": {},
   "outputs": [
    {
     "data": {
      "text/plain": [
       "['__class__',\n",
       " '__delattr__',\n",
       " '__dict__',\n",
       " '__dir__',\n",
       " '__doc__',\n",
       " '__eq__',\n",
       " '__format__',\n",
       " '__ge__',\n",
       " '__getattribute__',\n",
       " '__gt__',\n",
       " '__hash__',\n",
       " '__init__',\n",
       " '__init_subclass__',\n",
       " '__le__',\n",
       " '__lt__',\n",
       " '__module__',\n",
       " '__ne__',\n",
       " '__new__',\n",
       " '__reduce__',\n",
       " '__reduce_ex__',\n",
       " '__repr__',\n",
       " '__setattr__',\n",
       " '__sizeof__',\n",
       " '__str__',\n",
       " '__subclasshook__',\n",
       " '__weakref__',\n",
       " '_gpu',\n",
       " '_height',\n",
       " '_os',\n",
       " '_width',\n",
       " 'cpu',\n",
       " 'ram']"
      ]
     },
     "execution_count": 13,
     "metadata": {},
     "output_type": "execute_result"
    }
   ],
   "source": [
    "dir(comp1)"
   ]
  },
  {
   "cell_type": "code",
   "execution_count": 14,
   "id": "1b74b39f",
   "metadata": {},
   "outputs": [
    {
     "data": {
      "text/plain": [
       "(2, 450, 'Windows', 450)"
      ]
     },
     "execution_count": 14,
     "metadata": {},
     "output_type": "execute_result"
    }
   ],
   "source": [
    "#Protected variables with indirect access\n",
    "comp1._gpu, comp1._height, comp1._os, comp1._width"
   ]
  },
  {
   "cell_type": "code",
   "execution_count": 15,
   "id": "22485fe8",
   "metadata": {},
   "outputs": [],
   "source": [
    "class laptops():\n",
    "    # Class constructor with private instance variables\n",
    "    def __init__ (self, width, height, gpu, os):\n",
    "        self.__width = width\n",
    "        self.__height = height\n",
    "        self.__gpu = gpu\n",
    "        self.__os = os"
   ]
  },
  {
   "cell_type": "code",
   "execution_count": 16,
   "id": "2b91096c",
   "metadata": {},
   "outputs": [],
   "source": [
    "# Define objects from laptops class\n",
    "acer = laptops(450,450,2,\"Windows\")"
   ]
  },
  {
   "cell_type": "code",
   "execution_count": 17,
   "id": "0fe4dcb3",
   "metadata": {
    "scrolled": true
   },
   "outputs": [
    {
     "data": {
      "text/plain": [
       "['__class__',\n",
       " '__delattr__',\n",
       " '__dict__',\n",
       " '__dir__',\n",
       " '__doc__',\n",
       " '__eq__',\n",
       " '__format__',\n",
       " '__ge__',\n",
       " '__getattribute__',\n",
       " '__gt__',\n",
       " '__hash__',\n",
       " '__init__',\n",
       " '__init_subclass__',\n",
       " '__le__',\n",
       " '__lt__',\n",
       " '__module__',\n",
       " '__ne__',\n",
       " '__new__',\n",
       " '__reduce__',\n",
       " '__reduce_ex__',\n",
       " '__repr__',\n",
       " '__setattr__',\n",
       " '__sizeof__',\n",
       " '__str__',\n",
       " '__subclasshook__',\n",
       " '__weakref__',\n",
       " '_laptops__gpu',\n",
       " '_laptops__height',\n",
       " '_laptops__os',\n",
       " '_laptops__width']"
      ]
     },
     "execution_count": 17,
     "metadata": {},
     "output_type": "execute_result"
    }
   ],
   "source": [
    "dir(acer)"
   ]
  },
  {
   "cell_type": "code",
   "execution_count": 18,
   "id": "acb3a277",
   "metadata": {},
   "outputs": [
    {
     "data": {
      "text/plain": [
       "(2, 450, 'Windows', 450)"
      ]
     },
     "execution_count": 18,
     "metadata": {},
     "output_type": "execute_result"
    }
   ],
   "source": [
    "#Protected variables with indirect access\n",
    "acer._laptops__gpu, acer._laptops__height, acer._laptops__os, acer._laptops__width"
   ]
  },
  {
   "cell_type": "markdown",
   "id": "ce8c0809",
   "metadata": {},
   "source": [
    "## Magic Methods in Classes\n",
    "\n",
    "All methods in classes that are defined using  &lowbar;&lowbar; variable &lowbar;&lowbar; are known as magic methods in Python.\n",
    "\n",
    "These magic methods can be overwritten in Python class.\n",
    "\n",
    "Examples below show the use of magic methods and how they can be overwritten in Python:"
   ]
  },
  {
   "cell_type": "code",
   "execution_count": 19,
   "id": "1345cdd3",
   "metadata": {},
   "outputs": [],
   "source": [
    "class laptops():\n",
    "    def __init__ (self, width, height, gpu, os):\n",
    "        self.width = width\n",
    "        self.height = height\n",
    "        self.gpu = gpu\n",
    "        self.os = os"
   ]
  },
  {
   "cell_type": "code",
   "execution_count": 20,
   "id": "61a51540",
   "metadata": {},
   "outputs": [],
   "source": [
    "# Define objects from laptops class\n",
    "acer = laptops(450,450,2,\"Windows\")\n",
    "acer2 = laptops(450,450,2,\"Windows\")"
   ]
  },
  {
   "cell_type": "code",
   "execution_count": 21,
   "id": "1d91f393",
   "metadata": {},
   "outputs": [
    {
     "data": {
      "text/plain": [
       "'<__main__.laptops object at 0x0000016F28201040>'"
      ]
     },
     "execution_count": 21,
     "metadata": {},
     "output_type": "execute_result"
    }
   ],
   "source": [
    "# Uses default str magic method from class laptops\n",
    "acer.__str__()"
   ]
  },
  {
   "cell_type": "code",
   "execution_count": 22,
   "id": "8524accb",
   "metadata": {},
   "outputs": [
    {
     "data": {
      "text/plain": [
       "NotImplemented"
      ]
     },
     "execution_count": 22,
     "metadata": {},
     "output_type": "execute_result"
    }
   ],
   "source": [
    "# Uses default eq magic method from class laptops\n",
    "acer.__eq__(acer2)"
   ]
  },
  {
   "cell_type": "code",
   "execution_count": 23,
   "id": "4cf6d5a1",
   "metadata": {},
   "outputs": [],
   "source": [
    "class laptops():\n",
    "    def __init__ (self, width, height, gpu, os):\n",
    "        self.width = width\n",
    "        self.height = height\n",
    "        self.gpu = gpu\n",
    "        self.os = os\n",
    "        \n",
    "    def __str__(self):\n",
    "        # Overwritten existing magic method\n",
    "        return \"Laptop object is created\"\n",
    "    \n",
    "    def __eq__(self, self2):\n",
    "        # Overwritten existing magic method\n",
    "        return (self.width == self2.width) & (self.height == self2.height) & (self.gpu == self2.gpu) & (self.os == self2.os) "
   ]
  },
  {
   "cell_type": "code",
   "execution_count": 24,
   "id": "e102b4c0",
   "metadata": {},
   "outputs": [],
   "source": [
    "# Define objects from laptops class\n",
    "acer = laptops(450,450,2,\"Windows\")\n",
    "acer2 = laptops(450,450,2,\"Windows\")"
   ]
  },
  {
   "cell_type": "code",
   "execution_count": 25,
   "id": "fc300d4e",
   "metadata": {},
   "outputs": [
    {
     "data": {
      "text/plain": [
       "'Laptop object is created'"
      ]
     },
     "execution_count": 25,
     "metadata": {},
     "output_type": "execute_result"
    }
   ],
   "source": [
    "# Uses new str magic method from class laptops\n",
    "acer.__str__()"
   ]
  },
  {
   "cell_type": "code",
   "execution_count": 26,
   "id": "7db01e26",
   "metadata": {},
   "outputs": [
    {
     "data": {
      "text/plain": [
       "True"
      ]
     },
     "execution_count": 26,
     "metadata": {},
     "output_type": "execute_result"
    }
   ],
   "source": [
    "# Uses new eq magic method from class laptops\n",
    "acer.__eq__(acer2)"
   ]
  },
  {
   "cell_type": "markdown",
   "id": "70713d4b",
   "metadata": {},
   "source": [
    "## Function copy\n",
    "\n",
    "When a variable is assigned to a function call, the result from the function call is copied.\n",
    "\n",
    "The example below shows the scenario of a function copy in Python:"
   ]
  },
  {
   "cell_type": "code",
   "execution_count": 27,
   "id": "bed54942",
   "metadata": {},
   "outputs": [],
   "source": [
    "def simple(first, second):\n",
    "    return first + second"
   ]
  },
  {
   "cell_type": "code",
   "execution_count": 28,
   "id": "fb328054",
   "metadata": {},
   "outputs": [
    {
     "data": {
      "text/plain": [
       "5"
      ]
     },
     "execution_count": 28,
     "metadata": {},
     "output_type": "execute_result"
    }
   ],
   "source": [
    "# Function copy\n",
    "summation = simple(2,3)\n",
    "summation"
   ]
  },
  {
   "cell_type": "code",
   "execution_count": 29,
   "id": "a41ad9ef",
   "metadata": {},
   "outputs": [],
   "source": [
    "# Removing function from memory\n",
    "del simple"
   ]
  },
  {
   "cell_type": "code",
   "execution_count": 30,
   "id": "576aa7fe",
   "metadata": {
    "scrolled": true
   },
   "outputs": [
    {
     "ename": "NameError",
     "evalue": "name 'simple' is not defined",
     "output_type": "error",
     "traceback": [
      "\u001b[1;31m---------------------------------------------------------------------------\u001b[0m",
      "\u001b[1;31mNameError\u001b[0m                                 Traceback (most recent call last)",
      "\u001b[1;32m~\\AppData\\Local\\Temp/ipykernel_20244/409118004.py\u001b[0m in \u001b[0;36m<module>\u001b[1;34m\u001b[0m\n\u001b[0;32m      1\u001b[0m \u001b[1;31m# Function call results in NameError\u001b[0m\u001b[1;33m\u001b[0m\u001b[1;33m\u001b[0m\u001b[1;33m\u001b[0m\u001b[0m\n\u001b[1;32m----> 2\u001b[1;33m \u001b[0msimple\u001b[0m\u001b[1;33m(\u001b[0m\u001b[1;36m2\u001b[0m\u001b[1;33m,\u001b[0m\u001b[1;36m3\u001b[0m\u001b[1;33m)\u001b[0m\u001b[1;33m\u001b[0m\u001b[1;33m\u001b[0m\u001b[0m\n\u001b[0m",
      "\u001b[1;31mNameError\u001b[0m: name 'simple' is not defined"
     ]
    }
   ],
   "source": [
    "# Function call results in NameError\n",
    "simple(2,3)"
   ]
  },
  {
   "cell_type": "code",
   "execution_count": 31,
   "id": "68ede886",
   "metadata": {},
   "outputs": [
    {
     "data": {
      "text/plain": [
       "5"
      ]
     },
     "execution_count": 31,
     "metadata": {},
     "output_type": "execute_result"
    }
   ],
   "source": [
    "# Result from initial function call is retained\n",
    "summation"
   ]
  },
  {
   "cell_type": "markdown",
   "id": "fa32c28c",
   "metadata": {},
   "source": [
    "## Closures\n",
    "\n",
    "Closures are sub-functions defined inside another function, where variables defined outside of a sub-function can be accessed.\n",
    "\n",
    "When closures are used, the main function should return the sub-function instead of an expression.\n",
    "\n",
    "The example below shows the use of closures:"
   ]
  },
  {
   "cell_type": "code",
   "execution_count": 32,
   "id": "19b1a9df",
   "metadata": {},
   "outputs": [],
   "source": [
    "def num_transform(num1, num2):\n",
    "    operation = input(\"Select a mathematical operation of your choice (+ or - or * or /): \")\n",
    "    def transform():\n",
    "        result = eval(str(num1) + operation + str(num2))\n",
    "        return result\n",
    "    return transform()"
   ]
  },
  {
   "cell_type": "code",
   "execution_count": 33,
   "id": "ebf67db9",
   "metadata": {},
   "outputs": [
    {
     "name": "stdout",
     "output_type": "stream",
     "text": [
      "Select a mathematical operation of your choice (+ or - or * or /): *\n"
     ]
    },
    {
     "data": {
      "text/plain": [
       "6"
      ]
     },
     "execution_count": 33,
     "metadata": {},
     "output_type": "execute_result"
    }
   ],
   "source": [
    "value = num_transform(2,3)\n",
    "value"
   ]
  },
  {
   "cell_type": "markdown",
   "id": "47128727",
   "metadata": {},
   "source": [
    "## Decorators\n",
    "\n",
    "Decorators are similar to closures, except that decorators allows built-in and custom functions to be passed as parameters into sub-functions.\n",
    "\n",
    "The example below shows the use of decorators with built-in functions:"
   ]
  },
  {
   "cell_type": "code",
   "execution_count": 34,
   "id": "ea18421b",
   "metadata": {},
   "outputs": [],
   "source": [
    "def num_transform(num1, num2, func):\n",
    "    operation = input(\"Select a mathematical operation of your choice (+ or - or * or /): \")\n",
    "    def transform():\n",
    "        result = func(str(num1) + operation + str(num2))\n",
    "    return transform()"
   ]
  },
  {
   "cell_type": "code",
   "execution_count": 35,
   "id": "47294a5c",
   "metadata": {},
   "outputs": [
    {
     "name": "stdout",
     "output_type": "stream",
     "text": [
      "Select a mathematical operation of your choice (+ or - or * or /): *\n",
      "2*3\n"
     ]
    }
   ],
   "source": [
    "# Passing built-in functions as parameters\n",
    "num_transform(2,3,print)"
   ]
  },
  {
   "cell_type": "code",
   "execution_count": 36,
   "id": "67fe74d5",
   "metadata": {},
   "outputs": [
    {
     "name": "stdout",
     "output_type": "stream",
     "text": [
      "Select a mathematical operation of your choice (+ or - or * or /): +\n"
     ]
    }
   ],
   "source": [
    "# Passing built-in functions as parameters\n",
    "num_transform(2,3,eval)"
   ]
  },
  {
   "cell_type": "markdown",
   "id": "61a8aba6",
   "metadata": {},
   "source": [
    "For custom functions, there are two ways that decorators can be used:"
   ]
  },
  {
   "cell_type": "code",
   "execution_count": 37,
   "id": "bdafb796",
   "metadata": {},
   "outputs": [],
   "source": [
    "def num_transform(func):\n",
    "    num1 = eval(input(\"Select your first number: \"))\n",
    "    num2 = eval(input(\"Select your second number: \"))\n",
    "    operation = input(\"Select a mathematical operation of your choice (+ or - or * or /): \")\n",
    "    def transform():\n",
    "        result = func(num1, num2, operation)\n",
    "        print(\"Value is {}\".format(result))\n",
    "        return result\n",
    "    return transform()"
   ]
  },
  {
   "cell_type": "code",
   "execution_count": 38,
   "id": "4749ddfb",
   "metadata": {},
   "outputs": [],
   "source": [
    "def operation_types(num1, num2, operation):\n",
    "    if operation == \"+\":\n",
    "        print(\"Addition is used\")\n",
    "        return num1+num2\n",
    "    elif operation == \"-\":\n",
    "        print(\"Subtraction is used\")\n",
    "        return num1-num2\n",
    "    elif operation == \"*\":\n",
    "        print(\"Multiplication is used\")\n",
    "        return num1*num2\n",
    "    elif operation == \"/\":\n",
    "        print(\"Division is used\")\n",
    "        return num1/num2\n",
    "    else:\n",
    "        print(\"No operation is used\")\n",
    "        return"
   ]
  },
  {
   "cell_type": "code",
   "execution_count": 39,
   "id": "b6e3456a",
   "metadata": {
    "scrolled": false
   },
   "outputs": [
    {
     "name": "stdout",
     "output_type": "stream",
     "text": [
      "Select your first number: 24.5\n",
      "Select your second number: 34.6\n",
      "Select a mathematical operation of your choice (+ or - or * or /): *\n",
      "Multiplication is used\n",
      "Value is 847.7\n"
     ]
    },
    {
     "data": {
      "text/plain": [
       "847.7"
      ]
     },
     "execution_count": 39,
     "metadata": {},
     "output_type": "execute_result"
    }
   ],
   "source": [
    "value = num_transform(operation_types)\n",
    "value"
   ]
  },
  {
   "cell_type": "code",
   "execution_count": 40,
   "id": "b6dcfa8b",
   "metadata": {
    "scrolled": false
   },
   "outputs": [
    {
     "name": "stdout",
     "output_type": "stream",
     "text": [
      "Select your first number: 12\n",
      "Select your second number: 5\n",
      "Select a mathematical operation of your choice (+ or - or * or /): /\n",
      "Division is used\n",
      "Value is 2.4\n"
     ]
    },
    {
     "data": {
      "text/plain": [
       "2.4"
      ]
     },
     "execution_count": 40,
     "metadata": {},
     "output_type": "execute_result"
    }
   ],
   "source": [
    "@num_transform\n",
    "def operation_types(num1, num2, operation):\n",
    "    if operation == \"+\":\n",
    "        print(\"Addition is used\")\n",
    "        return num1+num2\n",
    "    elif operation == \"-\":\n",
    "        print(\"Subtraction is used\")\n",
    "        return num1-num2\n",
    "    elif operation == \"*\":\n",
    "        print(\"Multiplication is used\")\n",
    "        return num1*num2\n",
    "    elif operation == \"/\":\n",
    "        print(\"Division is used\")\n",
    "        return num1/num2\n",
    "    else:\n",
    "        print(\"No operation is used\")\n",
    "        return\n",
    "\n",
    "result1 = operation_types\n",
    "result1"
   ]
  },
  {
   "cell_type": "markdown",
   "id": "0cf08281",
   "metadata": {},
   "source": [
    "## Class Methods in Classes\n",
    "\n",
    "Functions defined within a class can either be referenced using self or cls keyword.\n",
    "\n",
    "<b>Self</b> keyword is used for referencing functions to specific instance of class.\n",
    "\n",
    "<b>Cls</b> keyword is used for referencing functions (class methods) to entire class object itself. \n",
    "\n",
    "Variables that are defined inside a class, but not within functions are known as class variables.\n",
    "\n",
    "<b>Note that class variables are shared across all class instances and class object.</b>\n",
    "\n",
    "The example below shows the use of class methods:"
   ]
  },
  {
   "cell_type": "code",
   "execution_count": 41,
   "id": "b67c4bff",
   "metadata": {},
   "outputs": [],
   "source": [
    "class Accounts():\n",
    "    interest_rate = 0.05 # Class variable that is shared across all instances and class object\n",
    "    def __init__(self, name, balance, open_year, credit_rating):\n",
    "        self.name = name\n",
    "        self.balance = balance\n",
    "        self.open_year = open_year\n",
    "        self.credit_rating = credit_rating\n",
    "    @classmethod #Decorator for class method\n",
    "    def rate_change(cls,rate):\n",
    "        cls.interest_rate *= (1 + rate)"
   ]
  },
  {
   "cell_type": "code",
   "execution_count": 42,
   "id": "4c38bfe9",
   "metadata": {},
   "outputs": [],
   "source": [
    "account1 = Accounts(\"James\",270000,2018,\"C\")\n",
    "account2 = Accounts(\"Samuel\",566000,2020,\"A+\")"
   ]
  },
  {
   "cell_type": "code",
   "execution_count": 43,
   "id": "56398427",
   "metadata": {},
   "outputs": [
    {
     "data": {
      "text/plain": [
       "0.05"
      ]
     },
     "execution_count": 43,
     "metadata": {},
     "output_type": "execute_result"
    }
   ],
   "source": [
    "account1.interest_rate"
   ]
  },
  {
   "cell_type": "code",
   "execution_count": 44,
   "id": "65507989",
   "metadata": {},
   "outputs": [],
   "source": [
    "# Updating interest rate to increase by 20%\n",
    "Accounts.rate_change(0.20)"
   ]
  },
  {
   "cell_type": "code",
   "execution_count": 45,
   "id": "76ab5b6a",
   "metadata": {},
   "outputs": [
    {
     "data": {
      "text/plain": [
       "(0.06, 0.06, 0.06)"
      ]
     },
     "execution_count": 45,
     "metadata": {},
     "output_type": "execute_result"
    }
   ],
   "source": [
    "account1.interest_rate, account2.interest_rate, Accounts.interest_rate"
   ]
  },
  {
   "cell_type": "code",
   "execution_count": 46,
   "id": "eb62bb1e",
   "metadata": {},
   "outputs": [],
   "source": [
    "account3 = Accounts(\"Jolie\",5000,2021,\"B+\")"
   ]
  },
  {
   "cell_type": "code",
   "execution_count": 47,
   "id": "3a1521d8",
   "metadata": {},
   "outputs": [
    {
     "data": {
      "text/plain": [
       "0.06"
      ]
     },
     "execution_count": 47,
     "metadata": {},
     "output_type": "execute_result"
    }
   ],
   "source": [
    "account3.interest_rate"
   ]
  },
  {
   "cell_type": "markdown",
   "id": "d73675aa",
   "metadata": {},
   "source": [
    "Note that class instances can also access class methods, however it is best practice to access class methods directly from class objects."
   ]
  },
  {
   "cell_type": "markdown",
   "id": "931095ee",
   "metadata": {},
   "source": [
    "## Static Methods in Classes\n",
    "\n",
    "Static methods that are defined in class objects do not require using self or cls keyword, as these methods are first initialized when class is created before class instances.\n",
    "\n",
    "Static methods can be accessed with or without creating class objects.\n",
    "\n",
    "These static methods are suitable for generic applications that do not require modifying the state of class objects.\n",
    "\n",
    "The example below shows the use of static methods:"
   ]
  },
  {
   "cell_type": "code",
   "execution_count": 48,
   "id": "854b489f",
   "metadata": {},
   "outputs": [],
   "source": [
    "import datetime\n",
    "class Accounts():\n",
    "    interest_rate = 0.05 # Class variable that is shared across all instances and class object\n",
    "    def __init__(self, name, balance, open_year, credit_rating):\n",
    "        self.name = name\n",
    "        self.balance = balance\n",
    "        self.open_year = open_year\n",
    "        self.credit_rating = credit_rating\n",
    "    @classmethod #Decorator for class method\n",
    "    def rate_change(cls,rate):\n",
    "        cls.interest_rate *= (1 + rate)\n",
    "    @staticmethod #Decorator for static method\n",
    "    def timestamp():\n",
    "        return datetime.datetime.now().strftime(\"%d/%m/%Y %H:%M:%S\")"
   ]
  },
  {
   "cell_type": "code",
   "execution_count": 49,
   "id": "1c00075f",
   "metadata": {},
   "outputs": [
    {
     "data": {
      "text/plain": [
       "'01/12/2021 22:56:21'"
      ]
     },
     "execution_count": 49,
     "metadata": {},
     "output_type": "execute_result"
    }
   ],
   "source": [
    "# Static method for recording timestamp at time of code execution\n",
    "Accounts.timestamp()"
   ]
  },
  {
   "cell_type": "markdown",
   "id": "23d7199d",
   "metadata": {},
   "source": [
    "## Inheritance and Multi-Inheritance\n",
    "\n",
    "Inheritance in object-oriented programming involves child classes that inherit methods and variables from parent class.\n",
    "\n",
    "A child class can inherit methods and variables from one or more parent class.\n",
    "\n",
    "The example below shows the scenario of inheritance in Python:"
   ]
  },
  {
   "cell_type": "code",
   "execution_count": 50,
   "id": "9827fb7c",
   "metadata": {},
   "outputs": [],
   "source": [
    "class laptops():\n",
    "    # Parent class constructor\n",
    "    def __init__ (self, width, height, gpu, os):\n",
    "        self._width = width\n",
    "        self._height = height\n",
    "        self._gpu = gpu\n",
    "        self._os = os\n",
    "        \n",
    "    def area(self):\n",
    "        return self._width * self._height\n",
    "\n",
    "class computers(laptops):\n",
    "    # Child class constructor of laptops\n",
    "    def __init__ (self, width, height, gpu, os, ram, cpu):\n",
    "        super().__init__(width, height, gpu, os)\n",
    "        self.ram = ram\n",
    "        self.cpu = cpu"
   ]
  },
  {
   "cell_type": "code",
   "execution_count": 51,
   "id": "5815287a",
   "metadata": {},
   "outputs": [
    {
     "data": {
      "text/plain": [
       "{'Screen area': 921600, 'GPU': 4}"
      ]
     },
     "execution_count": 51,
     "metadata": {},
     "output_type": "execute_result"
    }
   ],
   "source": [
    "computer1 = computers(1280, 720, 4, \"Windows\", \"64GB\", 2)\n",
    "{\"Screen area\":computer1.area(),\"GPU\":computer1._gpu}"
   ]
  },
  {
   "cell_type": "markdown",
   "id": "7e346ff4",
   "metadata": {},
   "source": [
    "The example below shows the scenario of multi-inheritance:"
   ]
  },
  {
   "cell_type": "code",
   "execution_count": 52,
   "id": "027844c4",
   "metadata": {},
   "outputs": [],
   "source": [
    "class laptops():\n",
    "    # Parent class constructor\n",
    "    def __init__ (self, width, height, gpu, os):\n",
    "        self._width = width\n",
    "        self._height = height\n",
    "        self._gpu = gpu\n",
    "        self._os = os\n",
    "        \n",
    "    def area(self):\n",
    "        return self._width * self._height\n",
    "\n",
    "class tech():\n",
    "    def __init__(self, year, popularity, developer):\n",
    "        self._year = year\n",
    "        self._popularity = popularity\n",
    "        self._developer = developer\n",
    "    \n",
    "    def dev(self):\n",
    "        print(\"This technology is developed by {}\".format(self._developer))\n",
    "\n",
    "class computers(laptops, tech):\n",
    "    # Child class constructor of laptops with public instance variables (ram and cpu)\n",
    "    def __init__ (self, width, height, gpu, os, year, popularity, developer, ram, cpu):\n",
    "        laptops.__init__(self, width, height, gpu, os) # Initialize variables from laptops parent class\n",
    "        tech.__init__(self, year, popularity, developer) # Initialize variables from tech parent class\n",
    "        self.ram = ram\n",
    "        self.cpu = cpu"
   ]
  },
  {
   "cell_type": "code",
   "execution_count": 53,
   "id": "41b1790d",
   "metadata": {},
   "outputs": [],
   "source": [
    "computer1 = computers(1280, 720, 4, \"Windows\", 2014, 5, \"Jeffrey\", \"64GB\", 2)"
   ]
  },
  {
   "cell_type": "code",
   "execution_count": 54,
   "id": "51e3f1c0",
   "metadata": {
    "scrolled": true
   },
   "outputs": [
    {
     "data": {
      "text/plain": [
       "{'_width': 1280,\n",
       " '_height': 720,\n",
       " '_gpu': 4,\n",
       " '_os': 'Windows',\n",
       " '_year': 2014,\n",
       " '_popularity': 5,\n",
       " '_developer': 'Jeffrey',\n",
       " 'ram': '64GB',\n",
       " 'cpu': 2}"
      ]
     },
     "execution_count": 54,
     "metadata": {},
     "output_type": "execute_result"
    }
   ],
   "source": [
    "# Variables in dictionary form\n",
    "computer1.__dict__"
   ]
  },
  {
   "cell_type": "code",
   "execution_count": 55,
   "id": "cc13794c",
   "metadata": {},
   "outputs": [
    {
     "name": "stdout",
     "output_type": "stream",
     "text": [
      "This technology is developed by Jeffrey\n"
     ]
    }
   ],
   "source": [
    "# Method from tech parent class\n",
    "computer1.dev()"
   ]
  },
  {
   "cell_type": "code",
   "execution_count": 56,
   "id": "bb307a86",
   "metadata": {},
   "outputs": [
    {
     "data": {
      "text/plain": [
       "921600"
      ]
     },
     "execution_count": 56,
     "metadata": {},
     "output_type": "execute_result"
    }
   ],
   "source": [
    "# Method from laptops parent class\n",
    "computer1.area()"
   ]
  },
  {
   "cell_type": "markdown",
   "id": "ba823baf",
   "metadata": {},
   "source": [
    "## Polymorphism\n",
    "\n",
    "Polymorphism in Python refers to having same method names in both parent class and child class.\n",
    "\n",
    "While child class inherits methods from parent class through inheritance, these methods can also be overwritten in the child class.\n",
    "\n",
    "The code below shows an example of polymorphism:"
   ]
  },
  {
   "cell_type": "code",
   "execution_count": 57,
   "id": "f7ccaedc",
   "metadata": {},
   "outputs": [],
   "source": [
    "class computers():\n",
    "    # Parent class constructor\n",
    "    def __init__ (self, width, height, gpu, os):\n",
    "        self._width = width\n",
    "        self._height = height\n",
    "        self._gpu = gpu\n",
    "        self._os = os\n",
    "    \n",
    "    def dimension(self):\n",
    "        return \"This function is not implemented. Please use the child class to access this method\"\n",
    "\n",
    "class laptops(computers):\n",
    "    # Child class constructor\n",
    "    def __init__ (self, width, height, gpu, os):\n",
    "        super().__init__(width, height, gpu, os)\n",
    "    \n",
    "    # Overwrites parent class method\n",
    "    def dimension(self):\n",
    "        return f\"Your laptop is {self._width} wide and {self._height} tall\"\n",
    "\n",
    "class pc(computers):\n",
    "    # Child class constructor\n",
    "    def __init__ (self, width, height, gpu, os):\n",
    "        super().__init__(width, height, gpu, os)\n",
    "    \n",
    "    # Overwrites parent class method\n",
    "    def dimension(self):\n",
    "        return f\"Your PC is {self._width} wide and {self._height} tall\""
   ]
  },
  {
   "cell_type": "code",
   "execution_count": 58,
   "id": "7a778b0c",
   "metadata": {},
   "outputs": [
    {
     "data": {
      "text/plain": [
       "'Your laptop is 720 wide and 640 tall'"
      ]
     },
     "execution_count": 58,
     "metadata": {},
     "output_type": "execute_result"
    }
   ],
   "source": [
    "laptop1 = laptops(720,640,4,\"Linux\")\n",
    "laptop1.dimension()"
   ]
  },
  {
   "cell_type": "code",
   "execution_count": 59,
   "id": "9602773b",
   "metadata": {},
   "outputs": [
    {
     "data": {
      "text/plain": [
       "'Your PC is 1920 wide and 1080 tall'"
      ]
     },
     "execution_count": 59,
     "metadata": {},
     "output_type": "execute_result"
    }
   ],
   "source": [
    "pc1 = pc(1920,1080,6,\"Windows\")\n",
    "pc1.dimension()"
   ]
  },
  {
   "cell_type": "code",
   "execution_count": 60,
   "id": "d6205e2e",
   "metadata": {},
   "outputs": [
    {
     "data": {
      "text/plain": [
       "'This function is not implemented. Please use the child class to access this method'"
      ]
     },
     "execution_count": 60,
     "metadata": {},
     "output_type": "execute_result"
    }
   ],
   "source": [
    "computer1 = computers(1280,1280,2,\"Ubuntu\")\n",
    "computer1.dimension()"
   ]
  },
  {
   "cell_type": "markdown",
   "id": "d5c720e1",
   "metadata": {},
   "source": [
    "## Data Abstraction\n",
    "\n",
    "Data abstraction is used to hide internal functionality from users, while creating generic classes.\n",
    "\n",
    "Abstract methods are usually not implemented (only contain pass keyword) and instance classes with abstract methods cannot be created.\n",
    "\n",
    "To create class objects with abstract methods, child classes with all abstract methods will need to be defined (can be overwritten from abstract methods in parent class)\n",
    "\n",
    "Abstract classes are created using two main modules (<b>ABC and abstractmethod</b>) as shown in example below:"
   ]
  },
  {
   "cell_type": "code",
   "execution_count": 61,
   "id": "e6e405b5",
   "metadata": {},
   "outputs": [],
   "source": [
    "from abc import ABC, abstractmethod\n",
    "\n",
    "class laptops(ABC):\n",
    "    # Parent class constructor\n",
    "    def __init__ (self, width, height, gpu, os):\n",
    "        self._width = width\n",
    "        self._height = height\n",
    "        self._gpu = gpu\n",
    "        self._os = os\n",
    "        \n",
    "    def area(self):\n",
    "        return self._width * self._height\n",
    "    \n",
    "    @abstractmethod #Decorator for abstract method\n",
    "    def warranty(self):\n",
    "        pass\n",
    "\n",
    "class computers(laptops):\n",
    "    # Child class constructor of laptops\n",
    "    def __init__ (self, width, height, gpu, os, ram, cpu):\n",
    "        super().__init__(width, height, gpu, os)\n",
    "        self.ram = ram\n",
    "        self.cpu = cpu\n",
    "    \n",
    "    def warranty(self):\n",
    "        if self._gpu>2 :\n",
    "            return \"There is 2 year period of warranty\"\n",
    "        else:\n",
    "            return \"There is 1 year period of warranty\""
   ]
  },
  {
   "cell_type": "code",
   "execution_count": 62,
   "id": "6564b58d",
   "metadata": {},
   "outputs": [
    {
     "ename": "TypeError",
     "evalue": "Can't instantiate abstract class laptops with abstract methods warranty",
     "output_type": "error",
     "traceback": [
      "\u001b[1;31m---------------------------------------------------------------------------\u001b[0m",
      "\u001b[1;31mTypeError\u001b[0m                                 Traceback (most recent call last)",
      "\u001b[1;32m~\\AppData\\Local\\Temp/ipykernel_20244/740644258.py\u001b[0m in \u001b[0;36m<module>\u001b[1;34m\u001b[0m\n\u001b[0;32m      1\u001b[0m \u001b[1;31m# Parent class with abstract methods cannot be instantiated\u001b[0m\u001b[1;33m\u001b[0m\u001b[1;33m\u001b[0m\u001b[1;33m\u001b[0m\u001b[0m\n\u001b[1;32m----> 2\u001b[1;33m \u001b[0mlaptop1\u001b[0m \u001b[1;33m=\u001b[0m \u001b[0mlaptops\u001b[0m\u001b[1;33m(\u001b[0m\u001b[1;36m1280\u001b[0m\u001b[1;33m,\u001b[0m\u001b[1;36m720\u001b[0m\u001b[1;33m,\u001b[0m\u001b[1;36m4\u001b[0m\u001b[1;33m,\u001b[0m\u001b[1;34m\"Windows\"\u001b[0m\u001b[1;33m)\u001b[0m\u001b[1;33m\u001b[0m\u001b[1;33m\u001b[0m\u001b[0m\n\u001b[0m",
      "\u001b[1;31mTypeError\u001b[0m: Can't instantiate abstract class laptops with abstract methods warranty"
     ]
    }
   ],
   "source": [
    "# Parent class with abstract methods cannot be instantiated\n",
    "laptop1 = laptops(1280,720,4,\"Windows\")"
   ]
  },
  {
   "cell_type": "code",
   "execution_count": 63,
   "id": "ecbfc845",
   "metadata": {},
   "outputs": [],
   "source": [
    "# Child class with abstract method defined can be instantiated\n",
    "computer1 = computers(1280,720,3,\"Windows\",\"64GB\",2)"
   ]
  },
  {
   "cell_type": "code",
   "execution_count": 64,
   "id": "c7d48a22",
   "metadata": {},
   "outputs": [
    {
     "data": {
      "text/plain": [
       "'There is 2 year period of warranty'"
      ]
     },
     "execution_count": 64,
     "metadata": {},
     "output_type": "execute_result"
    }
   ],
   "source": [
    "computer1.warranty()"
   ]
  }
 ],
 "metadata": {
  "hide_input": false,
  "kernelspec": {
   "display_name": "Python 3 (ipykernel)",
   "language": "python",
   "name": "python3"
  },
  "language_info": {
   "codemirror_mode": {
    "name": "ipython",
    "version": 3
   },
   "file_extension": ".py",
   "mimetype": "text/x-python",
   "name": "python",
   "nbconvert_exporter": "python",
   "pygments_lexer": "ipython3",
   "version": "3.8.11"
  },
  "toc": {
   "base_numbering": 1,
   "nav_menu": {},
   "number_sections": true,
   "sideBar": true,
   "skip_h1_title": false,
   "title_cell": "Table of Contents",
   "title_sidebar": "Contents",
   "toc_cell": false,
   "toc_position": {},
   "toc_section_display": true,
   "toc_window_display": false
  },
  "varInspector": {
   "cols": {
    "lenName": 16,
    "lenType": 16,
    "lenVar": 40
   },
   "kernels_config": {
    "python": {
     "delete_cmd_postfix": "",
     "delete_cmd_prefix": "del ",
     "library": "var_list.py",
     "varRefreshCmd": "print(var_dic_list())"
    },
    "r": {
     "delete_cmd_postfix": ") ",
     "delete_cmd_prefix": "rm(",
     "library": "var_list.r",
     "varRefreshCmd": "cat(var_dic_list()) "
    }
   },
   "types_to_exclude": [
    "module",
    "function",
    "builtin_function_or_method",
    "instance",
    "_Feature"
   ],
   "window_display": false
  }
 },
 "nbformat": 4,
 "nbformat_minor": 5
}
