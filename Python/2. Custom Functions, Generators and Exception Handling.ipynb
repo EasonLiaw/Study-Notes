{
 "cells": [
  {
   "cell_type": "markdown",
   "id": "ffe8e29d",
   "metadata": {},
   "source": [
    "## Custom Defined Functions\n",
    "\n",
    "While there are many built-in Python functions, functions in Python can also be designed using the following basic format:\n",
    "\n",
    "<b>def func_name(pos_args, key_args, ...):<br>\n",
    "&emsp;&emsp; doc-string --optional, but best practice <br>\n",
    "&emsp;&emsp; code <br>\n",
    "&emsp;&emsp; return expression --optional</b>\n",
    "\n",
    "Note that return keyword is used for functions to return specified expressions, which is optional.\n",
    "\n",
    "When calling functions with specified arguments, functions that do not return expressions do not require variable assignment.\n",
    "\n",
    "Functions that do return expressions do require variable assignment, depending on the number of expressions returned from a given function.\n",
    "\n",
    "The following code below shows several examples of building custom functions:"
   ]
  },
  {
   "cell_type": "code",
   "execution_count": 1,
   "id": "13f711f0",
   "metadata": {},
   "outputs": [],
   "source": [
    "# Custom function for filtering numerical values that are divisible by 10\n",
    "def ten_divisor(num_coll):\n",
    "    \"\"\" (iterable) -> list\n",
    "    Returns a list of numbers from num_list, where the numbers given are divisible by the value of 10.\n",
    "    \n",
    "    Example:\n",
    "    \n",
    "    >>> ten_divisor([25,30,10,14,76,100])\n",
    "    [30, 10, 100]\n",
    "    \n",
    "    >>> ten_divisor([-20,0,4,89,-50])\n",
    "    [-20, 0, -50]\n",
    "    \"\"\"\n",
    "    return [value for value in num_coll if value%10==0]    "
   ]
  },
  {
   "cell_type": "code",
   "execution_count": 2,
   "id": "aa10cde1",
   "metadata": {},
   "outputs": [
    {
     "data": {
      "text/plain": [
       "[40, -20, 30]"
      ]
     },
     "execution_count": 2,
     "metadata": {},
     "output_type": "execute_result"
    }
   ],
   "source": [
    "numbers = [26,40,-20,25,30,12]\n",
    "divisor_10 = ten_divisor(numbers)\n",
    "divisor_10"
   ]
  },
  {
   "cell_type": "code",
   "execution_count": 3,
   "id": "9ae1646e",
   "metadata": {},
   "outputs": [],
   "source": [
    "# Custom function for returning the number of lower-case characters for a given text input\n",
    "def lower_char_count(text):\n",
    "    \"\"\" (string) -> None\n",
    "    Prints a string output that displays the number of lower case characters from a given text.\n",
    "    \n",
    "    Example:\n",
    "    >>> lower_char_count('erR wore SHirt')\n",
    "    There are 9 lower case characters in this text\n",
    "    \n",
    "    >>> lower_char_count('')\n",
    "    There are 0 lower case characters in this text\n",
    "    \n",
    "    >>> lower_char_count('this is a text')\n",
    "    There are 11 lower case characters in this text\n",
    "    \n",
    "    >>> lower_char_count('THIS IS A TEXT') \n",
    "    There are 0 lower case characters in this text\n",
    "    \"\"\"\n",
    "    filtered = []\n",
    "    for char in text:\n",
    "        if char.islower():\n",
    "            filtered.append(char)\n",
    "    print(\"There are {} lower case characters in this text\".format(len(filtered)))"
   ]
  },
  {
   "cell_type": "code",
   "execution_count": 4,
   "id": "17e60f06",
   "metadata": {},
   "outputs": [
    {
     "name": "stdout",
     "output_type": "stream",
     "text": [
      "There are 0 lower case characters in this text\n"
     ]
    }
   ],
   "source": [
    "lower_char_count('THIS IS A TEXT')"
   ]
  },
  {
   "cell_type": "code",
   "execution_count": 5,
   "id": "916a9531",
   "metadata": {},
   "outputs": [
    {
     "name": "stdout",
     "output_type": "stream",
     "text": [
      "There are 0 lower case characters in this text\n"
     ]
    }
   ],
   "source": [
    "result = lower_char_count('THIS IS A TEXT')"
   ]
  },
  {
   "cell_type": "code",
   "execution_count": 6,
   "id": "4ed7fb9b",
   "metadata": {
    "scrolled": true
   },
   "outputs": [
    {
     "name": "stdout",
     "output_type": "stream",
     "text": [
      "None\n"
     ]
    }
   ],
   "source": [
    "print(result)"
   ]
  },
  {
   "cell_type": "markdown",
   "id": "4301fa56",
   "metadata": {},
   "source": [
    "Note that functions that do not return expressions will return None as result when variables are assigned to function call."
   ]
  },
  {
   "cell_type": "markdown",
   "id": "17032e58",
   "metadata": {},
   "source": [
    "## Difference between positional and keyword arguments\n",
    "\n",
    "Positional arguments (*args): Arguments that are specified without default values (Requires declaration)\n",
    "\n",
    "Keyword arguments (**kwargs): Arguments that are specified with default values if not specified\n",
    "\n",
    "Note that args and kwargs are aliases, which can be replaced by any name. Single * symbol is used to indicate positional arguments and ** symbol is used to indicate keyword arguments\n",
    "\n",
    "The example below shows the use of both positional and keyword arguments:"
   ]
  },
  {
   "cell_type": "code",
   "execution_count": 7,
   "id": "d6e8d013",
   "metadata": {},
   "outputs": [],
   "source": [
    "# Custom function that returns a list sequence of values based on specified collection and its steps to traverse through\n",
    "def sequence (value_coll, steps = 1):\n",
    "    \"\"\" (iterable, int) -> list\n",
    "    Returns a subset of collection in specified number of steps between values in sequence.\n",
    "    \n",
    "    Example:\n",
    "    >>> sequence([25,27,12,34,24,67], 1)\n",
    "    [25, 27, 12, 34, 24, 67]\n",
    "    \n",
    "    >>> sequence([25,27,12,34,24,67])\n",
    "    [25, 27, 12, 34, 24, 67]\n",
    "    \n",
    "    >>> sequence([25,27,12,34,24,67], 0)\n",
    "    Please select step argument value that is integer and non-zero\n",
    "    \n",
    "    >>> sequence([], 1)\n",
    "    []\n",
    "    \n",
    "    >>> sequence([25,27,12,34,24,67], -1)\n",
    "    [67, 24, 34, 12, 27, 25]\n",
    "    \n",
    "    >>> sequence([], -1)\n",
    "    []\n",
    "    \n",
    "    \"\"\"\n",
    "    if steps == 0:\n",
    "        print(\"Please select step argument value that is integer and non-zero\")\n",
    "        return\n",
    "    \n",
    "    sub_list = []\n",
    "    for step in range(len(value_coll)):         \n",
    "        if step % steps == 0:\n",
    "            if steps > 0:\n",
    "                sub_list.append(value_coll[step])\n",
    "            else:\n",
    "                sub_list.append(value_coll[-step-1])\n",
    "    return sub_list    "
   ]
  },
  {
   "cell_type": "code",
   "execution_count": 8,
   "id": "a057e70f",
   "metadata": {},
   "outputs": [],
   "source": [
    "# Default value of steps argument is 1 if not specified in function call (Keyword argument)\n",
    "result1 = sequence(list(range(20,35)))\n",
    "result2 = sequence(list(range(20,35)),-3)\n",
    "result3 = sequence([27],-1)\n",
    "result4 = sequence([],-1)"
   ]
  },
  {
   "cell_type": "code",
   "execution_count": 9,
   "id": "888d68df",
   "metadata": {},
   "outputs": [
    {
     "name": "stdout",
     "output_type": "stream",
     "text": [
      "Result1: [20, 21, 22, 23, 24, 25, 26, 27, 28, 29, 30, 31, 32, 33, 34]\n",
      "Result2: [34, 31, 28, 25, 22]\n",
      "Result3: [27]\n",
      "Result4: []\n"
     ]
    }
   ],
   "source": [
    "print(\"Result1:\",result1)\n",
    "print(\"Result2:\",result2)\n",
    "print(\"Result3:\",result3)\n",
    "print(\"Result4:\",result4)"
   ]
  },
  {
   "cell_type": "code",
   "execution_count": 10,
   "id": "990b7bff",
   "metadata": {
    "scrolled": true
   },
   "outputs": [
    {
     "name": "stdout",
     "output_type": "stream",
     "text": [
      "Please select step argument value that is integer and non-zero\n"
     ]
    }
   ],
   "source": [
    "# Special case when step argument value is 0\n",
    "result5 = sequence(list(range(20,35)),0)"
   ]
  },
  {
   "cell_type": "markdown",
   "id": "758057fb",
   "metadata": {},
   "source": [
    "The example below shows the syntax difference between positional and keyword arguments:"
   ]
  },
  {
   "cell_type": "code",
   "execution_count": 11,
   "id": "edec9b69",
   "metadata": {},
   "outputs": [],
   "source": [
    "# Difference between positional and keyword arguments\n",
    "def arguments(*args, **kwargs):\n",
    "    print(args)\n",
    "    print(kwargs)"
   ]
  },
  {
   "cell_type": "code",
   "execution_count": 12,
   "id": "9a05bdf4",
   "metadata": {},
   "outputs": [
    {
     "name": "stdout",
     "output_type": "stream",
     "text": [
      "(['Variable1', 'Variable2', 'Variable3'], {'Variable11': 25, 'Variable12': 26})\n",
      "{}\n"
     ]
    }
   ],
   "source": [
    "position = ['Variable1', 'Variable2', 'Variable3']\n",
    "keyword = {'Variable11':25, 'Variable12':26}\n",
    "\n",
    "arguments(position, keyword)"
   ]
  },
  {
   "cell_type": "code",
   "execution_count": 13,
   "id": "f12cb141",
   "metadata": {},
   "outputs": [
    {
     "name": "stdout",
     "output_type": "stream",
     "text": [
      "('Variable1', 'Variable2', 'Variable3')\n",
      "{'Variable11': 25, 'Variable12': 26}\n"
     ]
    }
   ],
   "source": [
    "arguments(*position, **keyword)"
   ]
  },
  {
   "cell_type": "markdown",
   "id": "046bae66",
   "metadata": {},
   "source": [
    "## Doc-strings and DocTest\n",
    "\n",
    "Doc-strings in Python summarizes the behaviour of function, documents its arguments and return values if any.\n",
    "\n",
    "Doc-strings also lists all possible exceptions and other optional arguments if any.\n",
    "\n",
    "Doc-strings for given function can be viewed using built-in Python variable: <b>&lowbar;&lowbar;doc&lowbar;&lowbar;</b>"
   ]
  },
  {
   "cell_type": "code",
   "execution_count": 14,
   "id": "938b1aef",
   "metadata": {
    "scrolled": true
   },
   "outputs": [
    {
     "name": "stdout",
     "output_type": "stream",
     "text": [
      " (iterable, int) -> list\n",
      "    Returns a subset of collection in specified number of steps between values in sequence.\n",
      "    \n",
      "    Example:\n",
      "    >>> sequence([25,27,12,34,24,67], 1)\n",
      "    [25, 27, 12, 34, 24, 67]\n",
      "    \n",
      "    >>> sequence([25,27,12,34,24,67])\n",
      "    [25, 27, 12, 34, 24, 67]\n",
      "    \n",
      "    >>> sequence([25,27,12,34,24,67], 0)\n",
      "    Please select step argument value that is integer and non-zero\n",
      "    \n",
      "    >>> sequence([], 1)\n",
      "    []\n",
      "    \n",
      "    >>> sequence([25,27,12,34,24,67], -1)\n",
      "    [67, 24, 34, 12, 27, 25]\n",
      "    \n",
      "    >>> sequence([], -1)\n",
      "    []\n",
      "    \n",
      "    \n"
     ]
    }
   ],
   "source": [
    "# Viewing doc-string of sequence function (custom-defined)\n",
    "print(sequence.__doc__)"
   ]
  },
  {
   "cell_type": "markdown",
   "id": "d3de863c",
   "metadata": {},
   "source": [
    "Test cases with expected outcomes for custom functions can be defined using <b>>>></b> symbol within the doc-string.\n",
    "\n",
    "These test cases can be tested for validity using <b>testmod function in doctest module</b> as per example below:"
   ]
  },
  {
   "cell_type": "code",
   "execution_count": 15,
   "id": "ca396919",
   "metadata": {
    "scrolled": true
   },
   "outputs": [
    {
     "data": {
      "text/plain": [
       "TestResults(failed=0, attempted=12)"
      ]
     },
     "execution_count": 15,
     "metadata": {},
     "output_type": "execute_result"
    }
   ],
   "source": [
    "# Perform doc-test on cases specified within doc-string of function\n",
    "import doctest\n",
    "doctest.testmod()"
   ]
  },
  {
   "cell_type": "markdown",
   "id": "bbf88e4b",
   "metadata": {},
   "source": [
    "If any test cases failed, doctest will display the details of the errors as below:"
   ]
  },
  {
   "cell_type": "code",
   "execution_count": 16,
   "id": "decc2cf0",
   "metadata": {},
   "outputs": [],
   "source": [
    "# Custom function for filtering numerical values that are divisible by 5\n",
    "def five_divisor(num_coll):\n",
    "    \"\"\" (iterable) -> list\n",
    "    Returns a list of numbers from num_list, where the numbers given are divisible by the value of 5.\n",
    "    \n",
    "    Example (Failed test cases):\n",
    "    \n",
    "    >>> five_divisor([25,30,10,14,76,100])\n",
    "    [30, 10, 100]\n",
    "    \n",
    "    >>> five_divisor([-20,0,4,89,-50])\n",
    "    [-20, 0, -50]\n",
    "    \"\"\"\n",
    "    return [value for value in num_coll if value%5==0]    "
   ]
  },
  {
   "cell_type": "code",
   "execution_count": 17,
   "id": "90f657b2",
   "metadata": {
    "scrolled": false
   },
   "outputs": [
    {
     "name": "stdout",
     "output_type": "stream",
     "text": [
      "**********************************************************************\n",
      "File \"__main__\", line 8, in __main__.five_divisor\n",
      "Failed example:\n",
      "    five_divisor([25,30,10,14,76,100])\n",
      "Expected:\n",
      "    [30, 10, 100]\n",
      "Got:\n",
      "    [25, 30, 10, 100]\n",
      "**********************************************************************\n",
      "1 items had failures:\n",
      "   1 of   2 in __main__.five_divisor\n",
      "***Test Failed*** 1 failures.\n"
     ]
    },
    {
     "data": {
      "text/plain": [
       "TestResults(failed=1, attempted=14)"
      ]
     },
     "execution_count": 17,
     "metadata": {},
     "output_type": "execute_result"
    }
   ],
   "source": [
    "# Example of failed test case\n",
    "doctest.testmod()"
   ]
  },
  {
   "cell_type": "markdown",
   "id": "aef4232d",
   "metadata": {},
   "source": [
    "Note that doctest.testmod() function tests for all functions with test cases defined in a given file."
   ]
  },
  {
   "cell_type": "markdown",
   "id": "4618237e",
   "metadata": {},
   "source": [
    "## IPyTest (Unit-test)\n",
    "\n",
    "IPytest in Python is useful for comprehensive testing of cases for custom defined functions that are not defined in doc-strings.\n",
    "\n",
    "Instead of defining all possible test scenarios in a doc-string, IPyTest is a suitable alternative for a more thorough testing approach"
   ]
  },
  {
   "cell_type": "code",
   "execution_count": 18,
   "id": "f86cf181",
   "metadata": {},
   "outputs": [],
   "source": [
    "import ipytest\n",
    "ipytest.autoconfig(rewrite_asserts=True, magics=True)\n",
    "__file__ = \"2. Custom Functions.ipynb\""
   ]
  },
  {
   "cell_type": "code",
   "execution_count": 19,
   "id": "b0d4352b",
   "metadata": {},
   "outputs": [],
   "source": [
    "import io\n",
    "import sys\n",
    "\n",
    "# Testing for function calls of ten_divisor function\n",
    "def test_ten_divisor():\n",
    "    assert ten_divisor([25,30,10,14,76,100]) == [30, 10, 100]\n",
    "    assert ten_divisor([-20,0,4,89,-50]) == [-20, 0, -50]\n",
    "\n",
    "# Testing for function calls of lower_char_count function\n",
    "def test_lower_char_count():           \n",
    "    sys.stdout = io.StringIO() # Creates a new StringIO object and redirects the output to system                      \n",
    "    lower_char_count('erR wore SHirt')\n",
    "    assert sys.stdout.getvalue().strip() == 'There are 9 lower case characters in this text'\n",
    "         \n",
    "    sys.stdout = io.StringIO()                   \n",
    "    lower_char_count('')\n",
    "    assert sys.stdout.getvalue().strip() == 'There are 0 lower case characters in this text'\n",
    "    \n",
    "    sys.stdout = io.StringIO()                \n",
    "    lower_char_count('this is a text')\n",
    "    assert sys.stdout.getvalue().strip() == 'There are 11 lower case characters in this text'\n",
    "    \n",
    "    sys.stdout = io.StringIO()  \n",
    "    lower_char_count('THIS IS A TEXT')\n",
    "    assert sys.stdout.getvalue().strip() == 'There are 0 lower case characters in this text'"
   ]
  },
  {
   "cell_type": "code",
   "execution_count": 20,
   "id": "e3d3503d",
   "metadata": {
    "scrolled": true
   },
   "outputs": [
    {
     "name": "stdout",
     "output_type": "stream",
     "text": [
      "\u001b[32m.\u001b[0m\u001b[32m.\u001b[0m\u001b[32m                                                                                           [100%]\u001b[0m\n",
      "\u001b[32m\u001b[32m\u001b[1m2 passed\u001b[0m\u001b[32m in 0.02s\u001b[0m\u001b[0m\n"
     ]
    }
   ],
   "source": [
    "ipytest.run()"
   ]
  },
  {
   "cell_type": "markdown",
   "id": "e55296d6",
   "metadata": {},
   "source": [
    "## Lambda Functions\n",
    "\n",
    "Lambda functions are anonymous functions that only returns single expression value without defining it upfront.\n",
    "\n",
    "Basic syntax of lambda functions:\n",
    "\n",
    "<b>lambda var1, var2, ... : expr</b>"
   ]
  },
  {
   "cell_type": "code",
   "execution_count": 21,
   "id": "4d0341f2",
   "metadata": {},
   "outputs": [
    {
     "data": {
      "text/plain": [
       "8"
      ]
     },
     "execution_count": 21,
     "metadata": {},
     "output_type": "execute_result"
    }
   ],
   "source": [
    "# Lambda function for summing two values\n",
    "summation = lambda x, y : x + y\n",
    "summation(2,6)"
   ]
  },
  {
   "cell_type": "code",
   "execution_count": 22,
   "id": "5676e5be",
   "metadata": {},
   "outputs": [
    {
     "data": {
      "text/plain": [
       "'THIS IS A TEXT'"
      ]
     },
     "execution_count": 22,
     "metadata": {},
     "output_type": "execute_result"
    }
   ],
   "source": [
    "# Lambda function for converting string to upper-case characters\n",
    "upper = lambda x: x.upper()\n",
    "upper('This is a text')"
   ]
  },
  {
   "cell_type": "markdown",
   "id": "927dd14b",
   "metadata": {},
   "source": [
    "## Map and Filter Functions\n",
    "\n",
    "Map and filter functions are suitable alternatives for custom defined functions that requires iteration through iterators.\n",
    "\n",
    "<b>Map</b>: Transforms each data element within an iterator using specified functions\n",
    "\n",
    "<b>Filter</b>: Filters a subset of elements within an iterator from specified functions\n",
    "\n",
    "Basic syntax for map and filter functions:\n",
    "\n",
    "<b>map(func_name, iterator)</b>\n",
    "\n",
    "<b>filter(func_name, iterator)</b>\n",
    "\n",
    "Note that both map and filter functions return map and filter objects (iterators), where no data is initialized on memory unless called upon using built-in functions (next()) or transforming object into collection data type."
   ]
  },
  {
   "cell_type": "code",
   "execution_count": 23,
   "id": "ae46f196",
   "metadata": {},
   "outputs": [],
   "source": [
    "# Custom function for filtering numerical values that are divisible by 10\n",
    "def ten_divisor(num):\n",
    "    \"\"\" (value) -> int or float\n",
    "    Returns true if the number given is divisible by the value of 10.\n",
    "    \n",
    "    Example:\n",
    "    \n",
    "    >>> ten_divisor(25)\n",
    "    False\n",
    "    \n",
    "    >>> ten_divisor(50)\n",
    "    True\n",
    "    \"\"\"\n",
    "    return num%10 == 0"
   ]
  },
  {
   "cell_type": "code",
   "execution_count": 24,
   "id": "55a67f93",
   "metadata": {},
   "outputs": [
    {
     "name": "stdout",
     "output_type": "stream",
     "text": [
      "Boolean values of numbers divisible by 10: [False, False, True, True, True, False, False, True]\n",
      "Subset of values divisible by 10: [20, 10, 0, 30]\n"
     ]
    }
   ],
   "source": [
    "collection = [25,45,20,10,0,56,48,30]\n",
    "function_result = list(map(ten_divisor, collection)) # Transforms each data element in given list\n",
    "subset = list(filter(ten_divisor, collection)) # Filters data element from given list\n",
    "\n",
    "print(\"Boolean values of numbers divisible by 10:\",function_result)\n",
    "print(\"Subset of values divisible by 10:\",subset)"
   ]
  },
  {
   "cell_type": "markdown",
   "id": "4af0d5ef",
   "metadata": {},
   "source": [
    "## Iterables vs Iterators\n",
    "\n",
    "Iterables are collections that are initialized in memory. (i.e. list, tuples, dictionary, sets)\n",
    "\n",
    "Iterators are objects that are not initialized in memory until called upon using built-in functions:\n",
    "\n",
    "<b>iter()</b> : Initialize iterator\n",
    "\n",
    "<b>next()</b> : Calls iterator to retrieve subsequent element\n",
    "\n",
    "Note that after all elements in an iterator is called upon, the iterator will not return any results unless iterator is redefined."
   ]
  },
  {
   "cell_type": "code",
   "execution_count": 25,
   "id": "8f8d8747",
   "metadata": {},
   "outputs": [
    {
     "data": {
      "text/plain": [
       "<set_iterator at 0x274fdf77b00>"
      ]
     },
     "execution_count": 25,
     "metadata": {},
     "output_type": "execute_result"
    }
   ],
   "source": [
    "# Define set_iterator object\n",
    "iter({25,26,28,30,32,34,36})"
   ]
  },
  {
   "cell_type": "code",
   "execution_count": 26,
   "id": "e0af220d",
   "metadata": {},
   "outputs": [],
   "source": [
    "# Define list_iterator object\n",
    "iter1 = iter([25,26,28,30,32,34,36])"
   ]
  },
  {
   "cell_type": "code",
   "execution_count": 27,
   "id": "7a6c2529",
   "metadata": {},
   "outputs": [
    {
     "name": "stdout",
     "output_type": "stream",
     "text": [
      "25\n",
      "26\n",
      "28\n",
      "30\n",
      "32\n",
      "34\n",
      "36\n"
     ]
    }
   ],
   "source": [
    "# Initialize elements of iterators by using next() function\n",
    "print(next(iter1))\n",
    "print(next(iter1))\n",
    "print(next(iter1))\n",
    "print(next(iter1))\n",
    "print(next(iter1))\n",
    "print(next(iter1))\n",
    "print(next(iter1))"
   ]
  },
  {
   "cell_type": "code",
   "execution_count": 28,
   "id": "e1732a6b",
   "metadata": {
    "scrolled": true
   },
   "outputs": [
    {
     "ename": "StopIteration",
     "evalue": "",
     "output_type": "error",
     "traceback": [
      "\u001b[1;31m---------------------------------------------------------------------------\u001b[0m",
      "\u001b[1;31mStopIteration\u001b[0m                             Traceback (most recent call last)",
      "\u001b[1;32m2. Custom Functions.ipynb\u001b[0m in \u001b[0;36m<module>\u001b[1;34m\u001b[0m\n\u001b[0;32m      1\u001b[0m \u001b[1;31m# Calling values from iterator after last iteration results in StopIteration error unless iterator is redefined.\u001b[0m\u001b[1;33m\u001b[0m\u001b[1;33m\u001b[0m\u001b[1;33m\u001b[0m\u001b[0m\n\u001b[1;32m----> 2\u001b[1;33m \u001b[0mprint\u001b[0m\u001b[1;33m(\u001b[0m\u001b[0mnext\u001b[0m\u001b[1;33m(\u001b[0m\u001b[0miter1\u001b[0m\u001b[1;33m)\u001b[0m\u001b[1;33m)\u001b[0m\u001b[1;33m\u001b[0m\u001b[1;33m\u001b[0m\u001b[0m\n\u001b[0m",
      "\u001b[1;31mStopIteration\u001b[0m: "
     ]
    }
   ],
   "source": [
    "# Calling values from iterator after last iteration results in StopIteration error unless iterator is redefined.\n",
    "print(next(iter1))"
   ]
  },
  {
   "cell_type": "code",
   "execution_count": 29,
   "id": "42b77fe7",
   "metadata": {},
   "outputs": [],
   "source": [
    "iter2 = iter(['apple','oranges','bananas','guavas'])"
   ]
  },
  {
   "cell_type": "code",
   "execution_count": 30,
   "id": "03a3db0c",
   "metadata": {},
   "outputs": [
    {
     "name": "stdout",
     "output_type": "stream",
     "text": [
      "apple\n",
      "oranges\n",
      "bananas\n",
      "guavas\n"
     ]
    }
   ],
   "source": [
    "# Running iterators on for loop prevents StopIteration error, since next() function is automatically called\n",
    "for item in iter2:\n",
    "    print(item)"
   ]
  },
  {
   "cell_type": "markdown",
   "id": "a91e78d2",
   "metadata": {},
   "source": [
    "## Iterators vs Generators\n",
    "\n",
    "Generators are used to create iterators by using \"<b>yield</b>\" keyword in custom functions.\n",
    "\n",
    "However, there are several differences between iterators and generators to note:\n",
    "\n",
    "1. Iterators are defined using class, while generators are defined using functions.\n",
    "\n",
    "2. Iterators does not use local variables, while generators store all local variables when yield function is called upon, pausing after each one until next one is requested.\n",
    "\n",
    "3. Iterators are more memory efficient than generators.\n",
    "\n",
    "4. Generators provide fast and compact code, unlike iterators.\n",
    "\n",
    "5. Generators is a subset of iterators.\n",
    "\n",
    "The following example below shows the use of generators:"
   ]
  },
  {
   "cell_type": "code",
   "execution_count": 31,
   "id": "93575f54",
   "metadata": {},
   "outputs": [],
   "source": [
    "# Defining generator using yield keyword\n",
    "def all_squares(num):\n",
    "    for value in range(num):\n",
    "        yield value**2"
   ]
  },
  {
   "cell_type": "code",
   "execution_count": 32,
   "id": "94dba1a6",
   "metadata": {},
   "outputs": [
    {
     "data": {
      "text/plain": [
       "<generator object all_squares at 0x00000274FE12EA50>"
      ]
     },
     "execution_count": 32,
     "metadata": {},
     "output_type": "execute_result"
    }
   ],
   "source": [
    "# Generator object\n",
    "all_squares(5)"
   ]
  },
  {
   "cell_type": "code",
   "execution_count": 33,
   "id": "49de0b7c",
   "metadata": {},
   "outputs": [
    {
     "name": "stdout",
     "output_type": "stream",
     "text": [
      "0\n",
      "1\n",
      "4\n",
      "9\n",
      "16\n"
     ]
    }
   ],
   "source": [
    "result = all_squares(5)\n",
    "print(next(result))\n",
    "print(next(result))\n",
    "print(next(result))\n",
    "print(next(result))\n",
    "print(next(result))"
   ]
  },
  {
   "cell_type": "code",
   "execution_count": 34,
   "id": "bb2d7a04",
   "metadata": {},
   "outputs": [
    {
     "ename": "StopIteration",
     "evalue": "",
     "output_type": "error",
     "traceback": [
      "\u001b[1;31m---------------------------------------------------------------------------\u001b[0m",
      "\u001b[1;31mStopIteration\u001b[0m                             Traceback (most recent call last)",
      "\u001b[1;32m2. Custom Functions.ipynb\u001b[0m in \u001b[0;36m<module>\u001b[1;34m\u001b[0m\n\u001b[0;32m      1\u001b[0m \u001b[1;31m# Similar to iterators, calling values from generator after last iteration results in StopIteration error\u001b[0m\u001b[1;33m\u001b[0m\u001b[1;33m\u001b[0m\u001b[1;33m\u001b[0m\u001b[0m\n\u001b[0;32m      2\u001b[0m \u001b[1;31m# unless generator is redefined.\u001b[0m\u001b[1;33m\u001b[0m\u001b[1;33m\u001b[0m\u001b[1;33m\u001b[0m\u001b[0m\n\u001b[1;32m----> 3\u001b[1;33m \u001b[0mprint\u001b[0m\u001b[1;33m(\u001b[0m\u001b[0mnext\u001b[0m\u001b[1;33m(\u001b[0m\u001b[0mresult\u001b[0m\u001b[1;33m)\u001b[0m\u001b[1;33m)\u001b[0m\u001b[1;33m\u001b[0m\u001b[1;33m\u001b[0m\u001b[0m\n\u001b[0m",
      "\u001b[1;31mStopIteration\u001b[0m: "
     ]
    }
   ],
   "source": [
    "# Similar to iterators, calling values from generator after last iteration results in StopIteration error \n",
    "# unless generator is redefined.\n",
    "print(next(result))"
   ]
  },
  {
   "cell_type": "code",
   "execution_count": 35,
   "id": "cef036e6",
   "metadata": {
    "scrolled": true
   },
   "outputs": [
    {
     "name": "stdout",
     "output_type": "stream",
     "text": [
      "0\n",
      "1\n",
      "4\n",
      "9\n",
      "16\n",
      "25\n",
      "36\n",
      "49\n",
      "64\n",
      "81\n"
     ]
    }
   ],
   "source": [
    "result = all_squares(10)\n",
    "for item in result:\n",
    "    print(item)"
   ]
  },
  {
   "cell_type": "markdown",
   "id": "846a9b34",
   "metadata": {},
   "source": [
    "## Errors and Exception Handling\n",
    "\n",
    "Exception handling in Python is a mechanism used for handling runtime errors of functions due to user input errors by generating custom outputs of errors for easier understanding.\n",
    "\n",
    "Exception handling in Python consists of four major blocks:\n",
    "\n",
    "<b>try</b>:<br>\n",
    "    &emsp;&emsp; # code block where exception can occur due to input errors <br>\n",
    "<b>except (Error_Name1, Error_Name2, ...)/Exception as alias_name</b>:<br>\n",
    "    &emsp;&emsp; # Exception handling for specific errors or from Exception class <br>\n",
    "<b>else</b>:<br>\n",
    "    &emsp;&emsp; # Code executed if there are no exceptions <br>\n",
    "<b>finally</b>:<br>\n",
    "    &emsp;&emsp; # Code block executed regardless of whether exception occurs\n",
    "\n",
    "The following example below shows the use of exception handling for various potential errors on custom functions:"
   ]
  },
  {
   "cell_type": "code",
   "execution_count": 36,
   "id": "6039a78d",
   "metadata": {},
   "outputs": [],
   "source": [
    "def operations(): \n",
    "    try:\n",
    "        # code block where exception can occur\n",
    "        first = eval(input(\"Enter your first number of choice: \"))\n",
    "        second = eval(input(\"Enter your second number of choice: \"))\n",
    "        operation = input(\"Select one of the following operations (+ or - or * or / or %) : \")\n",
    "        if operation not in [\"+\", \"-\", \"*\", \"/\", \"%\"]:\n",
    "            raise SyntaxError\n",
    "        result = eval(str(first) + operation + str(second))\n",
    "\n",
    "    except (NameError,TypeError):\n",
    "        print(\"Please insert a suitable number for both first and second number of your choice\")\n",
    "\n",
    "    except SyntaxError:\n",
    "        print(\"Please input one of the following operations (+ or - or * or / or %) and ensure you input both numbers\")\n",
    "\n",
    "    except ZeroDivisionError:\n",
    "        print(\"Please select non-zero values for your 2nd number when using division (/) or modulus (%) operator\")\n",
    "\n",
    "    except Exception as ex1:\n",
    "        # Remaining exceptions captured here from Exception class\n",
    "        print(ex1)\n",
    "\n",
    "    else:\n",
    "        # Code executed if there are no exceptions\n",
    "        print(\"The result from the operation is {}\".format(result))\n",
    "\n",
    "    finally:\n",
    "        print(\"Operation is completed\")"
   ]
  },
  {
   "cell_type": "code",
   "execution_count": 37,
   "id": "506274c7",
   "metadata": {
    "scrolled": true
   },
   "outputs": [
    {
     "name": "stdout",
     "output_type": "stream",
     "text": [
      "Enter your first number of choice: 23\n",
      "Enter your second number of choice: 35\n",
      "Select one of the following operations (+ or - or * or / or %) : /\n",
      "The result from the operation is 0.6571428571428571\n",
      "Operation is completed\n"
     ]
    }
   ],
   "source": [
    "operations()"
   ]
  },
  {
   "cell_type": "code",
   "execution_count": 38,
   "id": "09deb470",
   "metadata": {
    "scrolled": true
   },
   "outputs": [
    {
     "name": "stdout",
     "output_type": "stream",
     "text": [
      "Enter your first number of choice: 45\n",
      "Enter your second number of choice: io\n",
      "Select one of the following operations (+ or - or * or / or %) : -\n",
      "Please input one of the following operations (+ or - or * or / or %) and ensure you input both numbers\n",
      "Operation is completed\n"
     ]
    }
   ],
   "source": [
    "operations()"
   ]
  },
  {
   "cell_type": "code",
   "execution_count": 39,
   "id": "0722a48e",
   "metadata": {
    "scrolled": true
   },
   "outputs": [
    {
     "name": "stdout",
     "output_type": "stream",
     "text": [
      "Enter your first number of choice: 23\n",
      "Enter your second number of choice: 1\n",
      "Select one of the following operations (+ or - or * or / or %) : !\n",
      "Please input one of the following operations (+ or - or * or / or %) and ensure you input both numbers\n",
      "Operation is completed\n"
     ]
    }
   ],
   "source": [
    "operations()"
   ]
  },
  {
   "cell_type": "code",
   "execution_count": 40,
   "id": "df81b58d",
   "metadata": {},
   "outputs": [
    {
     "name": "stdout",
     "output_type": "stream",
     "text": [
      "Enter your first number of choice: 23\n",
      "Enter your second number of choice: 0\n",
      "Select one of the following operations (+ or - or * or / or %) : /\n",
      "Please select non-zero values for your 2nd number when using division (/) or modulus (%) operator\n",
      "Operation is completed\n"
     ]
    }
   ],
   "source": [
    "operations()"
   ]
  },
  {
   "cell_type": "markdown",
   "id": "ea3db9d3",
   "metadata": {},
   "source": [
    "While there are many built-in exceptions in Python, custom exceptions can also be defined by creating <b>class objects</b> and using <b>raise</b> keyword for exception handling as per example below:"
   ]
  },
  {
   "cell_type": "code",
   "execution_count": 41,
   "id": "c84af249",
   "metadata": {
    "scrolled": true
   },
   "outputs": [],
   "source": [
    "class Error(Exception):\n",
    "    pass\n",
    "\n",
    "class negativeError(Error):\n",
    "    pass\n",
    "\n",
    "def age_input(): \n",
    "    try:\n",
    "        age = eval(input(\"Enter your age: \"))\n",
    "        if age <0:\n",
    "            raise negativeError\n",
    "    except (NameError, TypeError, SyntaxError):\n",
    "        print(\"Please insert your age which is a number\")\n",
    "    except negativeError:\n",
    "        print(\"Please insert your age which is positive\")\n",
    "    else:\n",
    "        print(\"Your age is {}\".format(age))"
   ]
  },
  {
   "cell_type": "code",
   "execution_count": 42,
   "id": "b54eabdc",
   "metadata": {},
   "outputs": [
    {
     "name": "stdout",
     "output_type": "stream",
     "text": [
      "Enter your age: 23\n",
      "Your age is 23\n"
     ]
    }
   ],
   "source": [
    "age_input()"
   ]
  },
  {
   "cell_type": "code",
   "execution_count": 43,
   "id": "00165a8c",
   "metadata": {},
   "outputs": [
    {
     "name": "stdout",
     "output_type": "stream",
     "text": [
      "Enter your age: -5\n",
      "Please insert your age which is positive\n"
     ]
    }
   ],
   "source": [
    "age_input()"
   ]
  },
  {
   "cell_type": "code",
   "execution_count": 44,
   "id": "324dc476",
   "metadata": {},
   "outputs": [
    {
     "name": "stdout",
     "output_type": "stream",
     "text": [
      "Enter your age: twenty\n",
      "Please insert your age which is a number\n"
     ]
    }
   ],
   "source": [
    "age_input()"
   ]
  }
 ],
 "metadata": {
  "hide_input": false,
  "kernelspec": {
   "display_name": "Python 3 (ipykernel)",
   "language": "python",
   "name": "python3"
  },
  "language_info": {
   "codemirror_mode": {
    "name": "ipython",
    "version": 3
   },
   "file_extension": ".py",
   "mimetype": "text/x-python",
   "name": "python",
   "nbconvert_exporter": "python",
   "pygments_lexer": "ipython3",
   "version": "3.8.11"
  },
  "toc": {
   "base_numbering": 1,
   "nav_menu": {},
   "number_sections": true,
   "sideBar": true,
   "skip_h1_title": false,
   "title_cell": "Table of Contents",
   "title_sidebar": "Contents",
   "toc_cell": false,
   "toc_position": {},
   "toc_section_display": true,
   "toc_window_display": false
  },
  "varInspector": {
   "cols": {
    "lenName": 16,
    "lenType": 16,
    "lenVar": 40
   },
   "kernels_config": {
    "python": {
     "delete_cmd_postfix": "",
     "delete_cmd_prefix": "del ",
     "library": "var_list.py",
     "varRefreshCmd": "print(var_dic_list())"
    },
    "r": {
     "delete_cmd_postfix": ") ",
     "delete_cmd_prefix": "rm(",
     "library": "var_list.r",
     "varRefreshCmd": "cat(var_dic_list()) "
    }
   },
   "types_to_exclude": [
    "module",
    "function",
    "builtin_function_or_method",
    "instance",
    "_Feature"
   ],
   "window_display": false
  }
 },
 "nbformat": 4,
 "nbformat_minor": 5
}
