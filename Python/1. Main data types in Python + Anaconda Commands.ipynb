{
 "cells": [
  {
   "cell_type": "markdown",
   "id": "54fa08f3",
   "metadata": {},
   "source": [
    "## Basic Anaconda Commands\n",
    "\n",
    "These basic commands of working with anaconda is essential for working with Python in different environments, while avoiding conflicts of certain Python libraries that may have version mismatches\n",
    "\n",
    "More details about complete list of anaconda commands can be found in the following link:\n",
    "https://docs.conda.io/projects/conda/en/latest/commands.html"
   ]
  },
  {
   "cell_type": "markdown",
   "id": "7656e165",
   "metadata": {},
   "source": [
    "Here are a few examples of the most common anaconda commands used:\n",
    "\n",
    "<b>conda create env_name</b> : Create new anaconda environment\n",
    "\n",
    "<b>conda activate env_name</b> : Activate specified anaconda environment\n",
    "\n",
    "<b>conda deactivate</b> : Deactivate current anaconda environment\n",
    "\n",
    "<b>conda install package_name</b>: Install new package into anaconda environment\n",
    "\n",
    "<b>conda update package_name</b>: Update existing package in anaconda environment"
   ]
  },
  {
   "cell_type": "code",
   "execution_count": 1,
   "id": "fc894284",
   "metadata": {},
   "outputs": [
    {
     "ename": "SyntaxError",
     "evalue": "invalid syntax (Temp/ipykernel_17268/2883128224.py, line 2)",
     "output_type": "error",
     "traceback": [
      "\u001b[1;36m  File \u001b[1;32m\"C:\\Users\\yixia\\AppData\\Local\\Temp/ipykernel_17268/2883128224.py\"\u001b[1;36m, line \u001b[1;32m2\u001b[0m\n\u001b[1;33m    conda info --envs\u001b[0m\n\u001b[1;37m          ^\u001b[0m\n\u001b[1;31mSyntaxError\u001b[0m\u001b[1;31m:\u001b[0m invalid syntax\n"
     ]
    }
   ],
   "source": [
    "# View all environments created in anaconda\n",
    "conda info --envs"
   ]
  },
  {
   "cell_type": "code",
   "execution_count": 2,
   "id": "37c53c19",
   "metadata": {},
   "outputs": [
    {
     "ename": "SyntaxError",
     "evalue": "invalid syntax (Temp/ipykernel_17268/878725703.py, line 2)",
     "output_type": "error",
     "traceback": [
      "\u001b[1;36m  File \u001b[1;32m\"C:\\Users\\yixia\\AppData\\Local\\Temp/ipykernel_17268/878725703.py\"\u001b[1;36m, line \u001b[1;32m2\u001b[0m\n\u001b[1;33m    conda list\u001b[0m\n\u001b[1;37m          ^\u001b[0m\n\u001b[1;31mSyntaxError\u001b[0m\u001b[1;31m:\u001b[0m invalid syntax\n"
     ]
    }
   ],
   "source": [
    "# View list of packages installed in current anaconda environment\n",
    "conda list"
   ]
  },
  {
   "cell_type": "markdown",
   "id": "fe25dabb",
   "metadata": {},
   "source": [
    "## Python Indexing\n",
    "\n",
    "Keypoints to note for indexing in Python:\n",
    "\n",
    "1. For indexing data in Python, indexes usually start from 0 on the left.\n",
    "\n",
    "2. Negative indexing is allowed in Python, which starts from -1 on the right side of a sequence.\n",
    "\n",
    "3. Range indexing in Python starts from \"start index\" to \"end index - 1\" in steps of 1 (default) - Note that negative value of steps indicate retrieve data in reverse order\n",
    "\n",
    "4. Indexing works on data types like text data and sequence data.\n",
    "\n",
    "Details of how indexing works will be shown in the next section."
   ]
  },
  {
   "cell_type": "markdown",
   "id": "97cc20ca",
   "metadata": {},
   "source": [
    "## Python variable types\n",
    "\n",
    "While there are many Python variable types, the most common built-in types of variables used in Python are:\n",
    "\n",
    "1. <b>text data</b>: str\n",
    "2. <b>numerical data</b>: int | float | complex\n",
    "3. <b>sequence data</b>: list | tuple | range\n",
    "4. <b>mapping data</b>: dict\n",
    "5. <b>set data</b>: set | frozenset\n",
    "6. <b>boolean data</b>: bool\n",
    "7. <b>null data </b>: None\n",
    "\n",
    "For identifying types of data variables, use the built-in type() function.\n",
    "\n",
    "For casting data into different variable types, use the data-type keyword as a function. (i.e. int(), str(), dict(), ...)"
   ]
  },
  {
   "cell_type": "markdown",
   "id": "cb498618",
   "metadata": {},
   "source": [
    "### Boolean Data\n",
    "\n",
    "Using built-in/custom functions that return boolean values, logical operators can be used to evaluate the truth of statements in Python.\n",
    "\n",
    "1. <b>and</b>: Evaluates to true if both conditions are true or otherwise\n",
    "2. <b>or</b>: Evaluates to true if either condition is true or otherwise\n",
    "3. <b>not</b>: Evaluates to opposite of boolean value from expressions"
   ]
  },
  {
   "cell_type": "code",
   "execution_count": 3,
   "id": "2c8685a7",
   "metadata": {},
   "outputs": [
    {
     "name": "stdout",
     "output_type": "stream",
     "text": [
      "True and False : False\n",
      "True and True : True\n",
      "True or False : True\n",
      "False or False : False\n"
     ]
    }
   ],
   "source": [
    "print(\"True and False :\",True and False)\n",
    "print(\"True and True :\",True and True)\n",
    "print(\"True or False :\",True or False)\n",
    "print(\"False or False :\",False or False)"
   ]
  },
  {
   "cell_type": "code",
   "execution_count": 4,
   "id": "6895ff44",
   "metadata": {},
   "outputs": [
    {
     "name": "stdout",
     "output_type": "stream",
     "text": [
      "not(True or False) : False\n",
      "not(False or False) : True\n"
     ]
    }
   ],
   "source": [
    "print(\"not(True or False) :\",not(True or False))\n",
    "print(\"not(False or False) :\",not(False or False))"
   ]
  },
  {
   "cell_type": "code",
   "execution_count": 5,
   "id": "b04e3a8a",
   "metadata": {},
   "outputs": [
    {
     "data": {
      "text/plain": [
       "bool"
      ]
     },
     "execution_count": 5,
     "metadata": {},
     "output_type": "execute_result"
    }
   ],
   "source": [
    "# Returns bool as data type\n",
    "type((not(True or False)))"
   ]
  },
  {
   "cell_type": "code",
   "execution_count": 6,
   "id": "9b5e1727",
   "metadata": {},
   "outputs": [
    {
     "name": "stdout",
     "output_type": "stream",
     "text": [
      "True\n",
      "False\n"
     ]
    }
   ],
   "source": [
    "# Sets to true if bool function contains at least an element or otherwise.\n",
    "print(bool('False'))\n",
    "print(bool())"
   ]
  },
  {
   "cell_type": "markdown",
   "id": "027aa369",
   "metadata": {},
   "source": [
    "### Text Data\n",
    "\n",
    "Text in Python are immutable (elements cannot be updated once defined). However, text data is indexable (portion of data can be retrieved)\n",
    "\n",
    "The following string functions below are most commonly used in Python, but not limited to the following:"
   ]
  },
  {
   "cell_type": "code",
   "execution_count": 7,
   "id": "d8de53e7",
   "metadata": {},
   "outputs": [],
   "source": [
    "text = \"This is a text\""
   ]
  },
  {
   "cell_type": "code",
   "execution_count": 8,
   "id": "333c4591",
   "metadata": {},
   "outputs": [
    {
     "data": {
      "text/plain": [
       "'this is a text'"
      ]
     },
     "execution_count": 8,
     "metadata": {},
     "output_type": "execute_result"
    }
   ],
   "source": [
    "# Set all characters in a string to lower case\n",
    "text.lower()"
   ]
  },
  {
   "cell_type": "code",
   "execution_count": 9,
   "id": "0281d277",
   "metadata": {},
   "outputs": [
    {
     "data": {
      "text/plain": [
       "'This is a text'"
      ]
     },
     "execution_count": 9,
     "metadata": {},
     "output_type": "execute_result"
    }
   ],
   "source": [
    "# Capitalize a sentence with uppercase only on first letter of string\n",
    "text.capitalize()"
   ]
  },
  {
   "cell_type": "code",
   "execution_count": 10,
   "id": "8ef99e98",
   "metadata": {},
   "outputs": [
    {
     "data": {
      "text/plain": [
       "False"
      ]
     },
     "execution_count": 10,
     "metadata": {},
     "output_type": "execute_result"
    }
   ],
   "source": [
    "# Checks if text ends with a specified character\n",
    "text.endswith('k')"
   ]
  },
  {
   "cell_type": "code",
   "execution_count": 11,
   "id": "8401d6aa",
   "metadata": {},
   "outputs": [
    {
     "data": {
      "text/plain": [
       "True"
      ]
     },
     "execution_count": 11,
     "metadata": {},
     "output_type": "execute_result"
    }
   ],
   "source": [
    "# Checks if text starts with a specified character\n",
    "text.startswith('T')"
   ]
  },
  {
   "cell_type": "code",
   "execution_count": 12,
   "id": "5a4a8602",
   "metadata": {},
   "outputs": [
    {
     "data": {
      "text/plain": [
       "['This', 'is', 'a', 'text']"
      ]
     },
     "execution_count": 12,
     "metadata": {},
     "output_type": "execute_result"
    }
   ],
   "source": [
    "# Split text based on \" \" separator by default \n",
    "text.split()"
   ]
  },
  {
   "cell_type": "code",
   "execution_count": 13,
   "id": "5eded07c",
   "metadata": {},
   "outputs": [],
   "source": [
    "text2 = \"\"\" This is first line.\n",
    "This is 2nd line.\n",
    "This is 3rd line.\"\"\"  "
   ]
  },
  {
   "cell_type": "code",
   "execution_count": 14,
   "id": "7c68ace5",
   "metadata": {},
   "outputs": [
    {
     "data": {
      "text/plain": [
       "[' This is first line.', 'This is 2nd line.', 'This is 3rd line.']"
      ]
     },
     "execution_count": 14,
     "metadata": {},
     "output_type": "execute_result"
    }
   ],
   "source": [
    "# Split text based on line boundaries.\n",
    "text2.splitlines()"
   ]
  },
  {
   "cell_type": "code",
   "execution_count": 15,
   "id": "71944a43",
   "metadata": {},
   "outputs": [],
   "source": [
    "text3 = \"     This is text with unwanted spacings.     \""
   ]
  },
  {
   "cell_type": "code",
   "execution_count": 16,
   "id": "7dfcb7ae",
   "metadata": {},
   "outputs": [
    {
     "data": {
      "text/plain": [
       "'This is text with unwanted spacings.'"
      ]
     },
     "execution_count": 16,
     "metadata": {},
     "output_type": "execute_result"
    }
   ],
   "source": [
    "# Remove leading and trailing spacings\n",
    "text3.strip()"
   ]
  },
  {
   "cell_type": "code",
   "execution_count": 17,
   "id": "21b1ba4e",
   "metadata": {},
   "outputs": [],
   "source": [
    "text4 = \"This is {} that it is {}\""
   ]
  },
  {
   "cell_type": "code",
   "execution_count": 18,
   "id": "521091f7",
   "metadata": {},
   "outputs": [
    {
     "data": {
      "text/plain": [
       "'This is ridiculous that it is silly'"
      ]
     },
     "execution_count": 18,
     "metadata": {},
     "output_type": "execute_result"
    }
   ],
   "source": [
    "# Format strings by inserting text into {} by position\n",
    "text4.format(\"ridiculous\", \"silly\")"
   ]
  },
  {
   "cell_type": "code",
   "execution_count": 19,
   "id": "634a1af0",
   "metadata": {},
   "outputs": [
    {
     "data": {
      "text/plain": [
       "'Choice1 | Choice2 | Choice3'"
      ]
     },
     "execution_count": 19,
     "metadata": {},
     "output_type": "execute_result"
    }
   ],
   "source": [
    "# Concatenate n number of strings based on a separator\n",
    "\" | \".join([\"Choice1\", \"Choice2\", \"Choice3\"])"
   ]
  },
  {
   "cell_type": "code",
   "execution_count": 20,
   "id": "adfb6d98",
   "metadata": {},
   "outputs": [
    {
     "data": {
      "text/plain": [
       "'This is a sentence'"
      ]
     },
     "execution_count": 20,
     "metadata": {},
     "output_type": "execute_result"
    }
   ],
   "source": [
    "# Replace part of string with new string\n",
    "text.replace(\"text\", \"sentence\")"
   ]
  },
  {
   "cell_type": "code",
   "execution_count": 21,
   "id": "816ff767",
   "metadata": {},
   "outputs": [
    {
     "name": "stdout",
     "output_type": "stream",
     "text": [
      "2\n",
      "-1\n"
     ]
    }
   ],
   "source": [
    "# Return index of substring. If not found, return -1\n",
    "print(text4.find(\"is\"))\n",
    "print(text4.find(\"not\"))"
   ]
  },
  {
   "cell_type": "code",
   "execution_count": 22,
   "id": "aa76e7b6",
   "metadata": {},
   "outputs": [
    {
     "name": "stdout",
     "output_type": "stream",
     "text": [
      "2\n"
     ]
    },
    {
     "ename": "ValueError",
     "evalue": "substring not found",
     "output_type": "error",
     "traceback": [
      "\u001b[1;31m---------------------------------------------------------------------------\u001b[0m",
      "\u001b[1;31mValueError\u001b[0m                                Traceback (most recent call last)",
      "\u001b[1;32m~\\AppData\\Local\\Temp/ipykernel_17268/1631951724.py\u001b[0m in \u001b[0;36m<module>\u001b[1;34m\u001b[0m\n\u001b[0;32m      1\u001b[0m \u001b[1;31m# Return index of substring. If not found, return valueerror\u001b[0m\u001b[1;33m\u001b[0m\u001b[1;33m\u001b[0m\u001b[1;33m\u001b[0m\u001b[0m\n\u001b[0;32m      2\u001b[0m \u001b[0mprint\u001b[0m\u001b[1;33m(\u001b[0m\u001b[0mtext4\u001b[0m\u001b[1;33m.\u001b[0m\u001b[0mindex\u001b[0m\u001b[1;33m(\u001b[0m\u001b[1;34m\"is\"\u001b[0m\u001b[1;33m)\u001b[0m\u001b[1;33m)\u001b[0m\u001b[1;33m\u001b[0m\u001b[1;33m\u001b[0m\u001b[0m\n\u001b[1;32m----> 3\u001b[1;33m \u001b[0mprint\u001b[0m\u001b[1;33m(\u001b[0m\u001b[0mtext4\u001b[0m\u001b[1;33m.\u001b[0m\u001b[0mindex\u001b[0m\u001b[1;33m(\u001b[0m\u001b[1;34m\"not\"\u001b[0m\u001b[1;33m)\u001b[0m\u001b[1;33m)\u001b[0m\u001b[1;33m\u001b[0m\u001b[1;33m\u001b[0m\u001b[0m\n\u001b[0m",
      "\u001b[1;31mValueError\u001b[0m: substring not found"
     ]
    }
   ],
   "source": [
    "# Return index of substring. If not found, return valueerror\n",
    "print(text4.index(\"is\"))\n",
    "print(text4.index(\"not\"))"
   ]
  },
  {
   "cell_type": "code",
   "execution_count": 23,
   "id": "f84bbd6b",
   "metadata": {},
   "outputs": [],
   "source": [
    "text5 = \"567\""
   ]
  },
  {
   "cell_type": "code",
   "execution_count": 24,
   "id": "ca9c1b2a",
   "metadata": {},
   "outputs": [
    {
     "data": {
      "text/plain": [
       "'000567'"
      ]
     },
     "execution_count": 24,
     "metadata": {},
     "output_type": "execute_result"
    }
   ],
   "source": [
    "# Pad zeros to the left of string to fit specified string width without truncation\n",
    "text5.zfill(6)"
   ]
  },
  {
   "cell_type": "code",
   "execution_count": 25,
   "id": "f9e341d8",
   "metadata": {},
   "outputs": [
    {
     "data": {
      "text/plain": [
       "14"
      ]
     },
     "execution_count": 25,
     "metadata": {},
     "output_type": "execute_result"
    }
   ],
   "source": [
    "# Returns length of string including spaces\n",
    "len(text)"
   ]
  },
  {
   "cell_type": "code",
   "execution_count": 26,
   "id": "cd1c8176",
   "metadata": {},
   "outputs": [
    {
     "data": {
      "text/plain": [
       "'This is a text This is first line.\\nThis is 2nd line.\\nThis is 3rd line.'"
      ]
     },
     "execution_count": 26,
     "metadata": {},
     "output_type": "execute_result"
    }
   ],
   "source": [
    "# Simple string concatenation with \"+\" operator\n",
    "text + text2"
   ]
  },
  {
   "cell_type": "code",
   "execution_count": 27,
   "id": "52c0f0c3",
   "metadata": {},
   "outputs": [
    {
     "data": {
      "text/plain": [
       "'This is a textThis is a text'"
      ]
     },
     "execution_count": 27,
     "metadata": {},
     "output_type": "execute_result"
    }
   ],
   "source": [
    "# String concatenation n times with \"*\" operator\n",
    "text * 2"
   ]
  },
  {
   "cell_type": "code",
   "execution_count": 28,
   "id": "4c827bfb",
   "metadata": {},
   "outputs": [
    {
     "data": {
      "text/plain": [
       "('This is a text', ' is a text', 'This is a t', 's i')"
      ]
     },
     "execution_count": 28,
     "metadata": {},
     "output_type": "execute_result"
    }
   ],
   "source": [
    "# Slicing of strings with start and end index\n",
    "text, text[4:], text[:-3], text[3:6]"
   ]
  },
  {
   "cell_type": "code",
   "execution_count": 29,
   "id": "5c09e956",
   "metadata": {},
   "outputs": [
    {
     "data": {
      "text/plain": [
       "'Ti satx'"
      ]
     },
     "execution_count": 29,
     "metadata": {},
     "output_type": "execute_result"
    }
   ],
   "source": [
    "#Returns every 2 characters of a text from the 1st index. (Default step is 1 if not specified)\n",
    "text[::2]"
   ]
  },
  {
   "cell_type": "code",
   "execution_count": 30,
   "id": "8e9bd77f",
   "metadata": {},
   "outputs": [
    {
     "data": {
      "text/plain": [
       "'te  ish'"
      ]
     },
     "execution_count": 30,
     "metadata": {},
     "output_type": "execute_result"
    }
   ],
   "source": [
    "#Returns every 3 characters of a text from the last index. (Default step is 1 if not specified)\n",
    "text[::-2]"
   ]
  },
  {
   "cell_type": "markdown",
   "id": "5dd7e545",
   "metadata": {},
   "source": [
    "### Sequence Data (List)\n",
    "\n",
    "Lists are ordered collections that are mutable (individual elements can be updated after creation).\n",
    "\n",
    "Lists are defined using square brackets \"[ ]\" and can have different types of elements.\n",
    "\n",
    "The following functions are applicable for lists:"
   ]
  },
  {
   "cell_type": "code",
   "execution_count": 31,
   "id": "f507ff7d",
   "metadata": {},
   "outputs": [],
   "source": [
    "list1 = [25, 46, True, \"String\"]"
   ]
  },
  {
   "cell_type": "code",
   "execution_count": 32,
   "id": "7f5cf079",
   "metadata": {},
   "outputs": [
    {
     "data": {
      "text/plain": [
       "[25, 46, True, 'String', 56]"
      ]
     },
     "execution_count": 32,
     "metadata": {},
     "output_type": "execute_result"
    }
   ],
   "source": [
    "# Adding new item to the end of list\n",
    "list1.append(56)\n",
    "list1"
   ]
  },
  {
   "cell_type": "code",
   "execution_count": 33,
   "id": "ad201554",
   "metadata": {},
   "outputs": [
    {
     "data": {
      "text/plain": [
       "[25, 46, True, 'String', 56, ['Apple', 21]]"
      ]
     },
     "execution_count": 33,
     "metadata": {},
     "output_type": "execute_result"
    }
   ],
   "source": [
    "# Adding new item (list) to the end of list\n",
    "list1.append([\"Apple\",21])\n",
    "list1"
   ]
  },
  {
   "cell_type": "markdown",
   "id": "5ea2c7be",
   "metadata": {},
   "source": [
    "Note that the entire list that was recently added is treated as one single item under append method."
   ]
  },
  {
   "cell_type": "code",
   "execution_count": 34,
   "id": "5297530f",
   "metadata": {},
   "outputs": [
    {
     "data": {
      "text/plain": [
       "[25, 46, True, 'String', 56, ['Apple', 21], 'Oranges', 24, False]"
      ]
     },
     "execution_count": 34,
     "metadata": {},
     "output_type": "execute_result"
    }
   ],
   "source": [
    "# Extend multiple items to the end of list\n",
    "list1.extend([\"Oranges\",24,False])\n",
    "list1"
   ]
  },
  {
   "cell_type": "markdown",
   "id": "54137352",
   "metadata": {},
   "source": [
    "Note that extend() function is similar to concatenating two lists together using \"+\" operator.\n",
    "\n",
    "i.e. list1 + ['Oranges', 24, False] "
   ]
  },
  {
   "cell_type": "code",
   "execution_count": 35,
   "id": "92c5a365",
   "metadata": {},
   "outputs": [
    {
     "data": {
      "text/plain": [
       "[25,\n",
       " 'Second value',\n",
       " 46,\n",
       " True,\n",
       " 'String',\n",
       " 56,\n",
       " ['Apple', 21],\n",
       " 'Oranges',\n",
       " 24,\n",
       " False]"
      ]
     },
     "execution_count": 35,
     "metadata": {},
     "output_type": "execute_result"
    }
   ],
   "source": [
    "# Adding items at specific index\n",
    "list1.insert(1,\"Second value\")\n",
    "list1"
   ]
  },
  {
   "cell_type": "code",
   "execution_count": 36,
   "id": "02ac8e40",
   "metadata": {},
   "outputs": [
    {
     "name": "stdout",
     "output_type": "stream",
     "text": [
      "Item removed: False\n",
      "New list: [25, 'Second value', 46, True, 'String', 56, ['Apple', 21], 'Oranges', 24]\n"
     ]
    }
   ],
   "source": [
    "# Display last item that is removed from the list (default setting for pop function)\n",
    "print(\"Item removed:\", list1.pop())\n",
    "print(\"New list:\",list1)"
   ]
  },
  {
   "cell_type": "code",
   "execution_count": 37,
   "id": "8a86b373",
   "metadata": {},
   "outputs": [
    {
     "name": "stdout",
     "output_type": "stream",
     "text": [
      "Item removed: 46\n",
      "New list: [25, 'Second value', True, 'String', 56, ['Apple', 21], 'Oranges', 24]\n"
     ]
    }
   ],
   "source": [
    "# Display item at index n that is removed from the list\n",
    "print(\"Item removed:\", list1.pop(2))\n",
    "print(\"New list:\",list1)"
   ]
  },
  {
   "cell_type": "code",
   "execution_count": 38,
   "id": "e22b89f5",
   "metadata": {},
   "outputs": [
    {
     "data": {
      "text/plain": [
       "[24, 'Oranges', ['Apple', 21], 56, 'String', True, 'Second value', 25]"
      ]
     },
     "execution_count": 38,
     "metadata": {},
     "output_type": "execute_result"
    }
   ],
   "source": [
    "#Reverse the sequence of items in the list\n",
    "list1.reverse()\n",
    "list1"
   ]
  },
  {
   "cell_type": "code",
   "execution_count": 39,
   "id": "410eea4e",
   "metadata": {},
   "outputs": [
    {
     "data": {
      "text/plain": [
       "1"
      ]
     },
     "execution_count": 39,
     "metadata": {},
     "output_type": "execute_result"
    }
   ],
   "source": [
    "#Return number of occurences of specific item in the list\n",
    "list1.count(56)"
   ]
  },
  {
   "cell_type": "code",
   "execution_count": 40,
   "id": "2310f757",
   "metadata": {},
   "outputs": [
    {
     "name": "stdout",
     "output_type": "stream",
     "text": [
      "Copied list: [24, 'Oranges', ['Apple', 21], 56, 'String', True, 'Second value', 25, '25']\n",
      "Original list: [24, 'Oranges', ['Apple', 21], 56, 'String', True, 'Second value', 25]\n"
     ]
    }
   ],
   "source": [
    "# Creating a shallow copy of list objects\n",
    "list2 = list1.copy()\n",
    "list2.extend([\"25\"])\n",
    "print(\"Copied list:\",list2)\n",
    "print(\"Original list:\",list1)"
   ]
  },
  {
   "cell_type": "code",
   "execution_count": 41,
   "id": "2a7a901a",
   "metadata": {},
   "outputs": [
    {
     "name": "stdout",
     "output_type": "stream",
     "text": [
      "Copied list: [24, 'Oranges', ['Apple', 21], 56, 'String', True, 'Second value', 25, 'Extra']\n",
      "Original list: [24, 'Oranges', ['Apple', 21], 56, 'String', True, 'Second value', 25, 'Extra']\n"
     ]
    }
   ],
   "source": [
    "# Creating a new list without shallow copy\n",
    "list3 = list1\n",
    "list3.extend([\"Extra\"])\n",
    "print(\"Copied list:\",list3)\n",
    "print(\"Original list:\",list1)"
   ]
  },
  {
   "cell_type": "code",
   "execution_count": 42,
   "id": "74ea26e7",
   "metadata": {},
   "outputs": [
    {
     "data": {
      "text/plain": [
       "['Oranges', ['Apple', 21], 56, 'String', True, 'Second value', 25, 'Extra']"
      ]
     },
     "execution_count": 42,
     "metadata": {},
     "output_type": "execute_result"
    }
   ],
   "source": [
    "# Remove first occurence of specified value from the list\n",
    "list1.remove(24)\n",
    "list1"
   ]
  },
  {
   "cell_type": "code",
   "execution_count": 43,
   "id": "60d25127",
   "metadata": {},
   "outputs": [
    {
     "data": {
      "text/plain": [
       "8"
      ]
     },
     "execution_count": 43,
     "metadata": {},
     "output_type": "execute_result"
    }
   ],
   "source": [
    "# Returns the number of items in a list\n",
    "len(list1)"
   ]
  },
  {
   "cell_type": "code",
   "execution_count": 44,
   "id": "480d9320",
   "metadata": {},
   "outputs": [
    {
     "data": {
      "text/plain": [
       "[12, 25, 27, 67]"
      ]
     },
     "execution_count": 44,
     "metadata": {},
     "output_type": "execute_result"
    }
   ],
   "source": [
    "# Returns a sorted list in ascending order\n",
    "list4 = [25,67,12,27]\n",
    "list4.sort()\n",
    "list4"
   ]
  },
  {
   "cell_type": "code",
   "execution_count": 45,
   "id": "cce9b841",
   "metadata": {},
   "outputs": [
    {
     "data": {
      "text/plain": [
       "[67, 27, 25, 12]"
      ]
     },
     "execution_count": 45,
     "metadata": {},
     "output_type": "execute_result"
    }
   ],
   "source": [
    "# Returns a sorted list in descending order\n",
    "list4.sort(reverse=True)\n",
    "list4"
   ]
  },
  {
   "cell_type": "code",
   "execution_count": 46,
   "id": "0af09c36",
   "metadata": {},
   "outputs": [
    {
     "data": {
      "text/plain": [
       "1"
      ]
     },
     "execution_count": 46,
     "metadata": {},
     "output_type": "execute_result"
    }
   ],
   "source": [
    "# Returns number of items in list\n",
    "list4.count(27)"
   ]
  },
  {
   "cell_type": "code",
   "execution_count": 47,
   "id": "6e4938b8",
   "metadata": {},
   "outputs": [
    {
     "data": {
      "text/plain": [
       "(['Oranges', ['Apple', 21], 56, 'String', True, 'Second value', 25, 'Extra'],\n",
       " ['String', True, 'Second value', 25, 'Extra'],\n",
       " ['Oranges', ['Apple', 21], 56, 'String', True, 'Second value', 25],\n",
       " ['Second value', 25, 'Extra'])"
      ]
     },
     "execution_count": 47,
     "metadata": {},
     "output_type": "execute_result"
    }
   ],
   "source": [
    "# Indexing on lists\n",
    "list1, list1[3:], list1[:-1], list1[-3:]"
   ]
  },
  {
   "cell_type": "markdown",
   "id": "0a93bd9d",
   "metadata": {},
   "source": [
    "### Identity vs Equality Comparison vs Membership Operators\n",
    "\n",
    "Identity operators compare memory location between two Python objects using \"is\" or \"is not\" keywords. Identity operators evaluate expression to true if both objects refer to the same memory location.\n",
    "\n",
    "Equality Comparison operators compare equality in content between two Python objects using \"==\" or \"!=\" sign. Note that equality comparison operators evaluate expression to true only if the object contents are exactly the same.\n",
    "\n",
    "Membership operators check for whether a specified value is contained within a Python object using \"in\" or \"not in\" keywords.\n",
    "\n",
    "Both identity, equality comparison and membership operators return boolean values.\n",
    "\n",
    "Note that other comparison operators like (<, <=, > and >=) also returns boolean values."
   ]
  },
  {
   "cell_type": "code",
   "execution_count": 48,
   "id": "88fe1e3a",
   "metadata": {
    "scrolled": true
   },
   "outputs": [
    {
     "name": "stdout",
     "output_type": "stream",
     "text": [
      "Is list1 referring to list2 ? - False\n",
      "Is list1 referring to list3 ? - True\n"
     ]
    }
   ],
   "source": [
    "# Identity operators\n",
    "list1 = [25, 45, 78, 20]\n",
    "list2 = [25, 45, 78, 20]\n",
    "list3 = list1\n",
    "print(\"Is list1 referring to list2 ? -\",list1 is list2)\n",
    "print(\"Is list1 referring to list3 ? -\",list1 is list3)"
   ]
  },
  {
   "cell_type": "markdown",
   "id": "69410965",
   "metadata": {},
   "source": [
    "Note that \"is\" operator does not check for content of Python objects. It simply checks for the same memory location between two Python objects."
   ]
  },
  {
   "cell_type": "code",
   "execution_count": 49,
   "id": "d2d89021",
   "metadata": {},
   "outputs": [
    {
     "data": {
      "text/plain": [
       "(True, False, False, True)"
      ]
     },
     "execution_count": 49,
     "metadata": {},
     "output_type": "execute_result"
    }
   ],
   "source": [
    "# Equality comparison operators\n",
    "\"y\" == \"y\", \"ya\" == \"ay\", \"Family\" == \"family\", [2,3,4] != [3,4,2]"
   ]
  },
  {
   "cell_type": "code",
   "execution_count": 50,
   "id": "05d23986",
   "metadata": {},
   "outputs": [
    {
     "data": {
      "text/plain": [
       "(True, False, True)"
      ]
     },
     "execution_count": 50,
     "metadata": {},
     "output_type": "execute_result"
    }
   ],
   "source": [
    "# Membership operators\n",
    "list1 = [25, 45, 78, 20]\n",
    "25 in list1, \"apple\" in list1, \"t\" not in \"going\""
   ]
  },
  {
   "cell_type": "markdown",
   "id": "e7e4068e",
   "metadata": {},
   "source": [
    "### Sequence Data (Tuples)\n",
    "\n",
    "Unlike lists, tuples are immutable, ordered collections, where individual elements cannot be updated after creation. (Note that entire tuple object can be removed)\n",
    "\n",
    "Tuples are defined using round brackets \"( )\" and can have different types of elements.\n",
    "\n",
    "The following functions are applicable for tuples:"
   ]
  },
  {
   "cell_type": "code",
   "execution_count": 51,
   "id": "3fcdd56a",
   "metadata": {},
   "outputs": [],
   "source": [
    "tuple1 = (25, \"text\", True, 56.8)"
   ]
  },
  {
   "cell_type": "code",
   "execution_count": 52,
   "id": "f14099bb",
   "metadata": {},
   "outputs": [
    {
     "data": {
      "text/plain": [
       "(25, (True, 56.8), (25, 'text', True))"
      ]
     },
     "execution_count": 52,
     "metadata": {},
     "output_type": "execute_result"
    }
   ],
   "source": [
    "# Indexing on tuples (Similar to lists)\n",
    "tuple1[0], tuple1[2:], tuple1[-4:-1]"
   ]
  },
  {
   "cell_type": "code",
   "execution_count": 53,
   "id": "bbc7c94f",
   "metadata": {},
   "outputs": [
    {
     "ename": "TypeError",
     "evalue": "'tuple' object does not support item assignment",
     "output_type": "error",
     "traceback": [
      "\u001b[1;31m---------------------------------------------------------------------------\u001b[0m",
      "\u001b[1;31mTypeError\u001b[0m                                 Traceback (most recent call last)",
      "\u001b[1;32m~\\AppData\\Local\\Temp/ipykernel_17268/298396941.py\u001b[0m in \u001b[0;36m<module>\u001b[1;34m\u001b[0m\n\u001b[0;32m      1\u001b[0m \u001b[1;31m# Note that individual elements of tuples cannot be updated (Return a TypeError)\u001b[0m\u001b[1;33m\u001b[0m\u001b[1;33m\u001b[0m\u001b[1;33m\u001b[0m\u001b[0m\n\u001b[1;32m----> 2\u001b[1;33m \u001b[0mtuple1\u001b[0m\u001b[1;33m[\u001b[0m\u001b[1;36m1\u001b[0m\u001b[1;33m]\u001b[0m \u001b[1;33m=\u001b[0m \u001b[1;36m26\u001b[0m\u001b[1;33m\u001b[0m\u001b[1;33m\u001b[0m\u001b[0m\n\u001b[0m",
      "\u001b[1;31mTypeError\u001b[0m: 'tuple' object does not support item assignment"
     ]
    }
   ],
   "source": [
    "# Note that individual elements of tuples cannot be updated (Return a TypeError)\n",
    "tuple1[1] = 26"
   ]
  },
  {
   "cell_type": "code",
   "execution_count": 54,
   "id": "5f4ad619",
   "metadata": {},
   "outputs": [
    {
     "data": {
      "text/plain": [
       "2"
      ]
     },
     "execution_count": 54,
     "metadata": {},
     "output_type": "execute_result"
    }
   ],
   "source": [
    "# Return index of value in tuple (Returns ValueError if item is not in tuple)\n",
    "tuple1.index(True)"
   ]
  },
  {
   "cell_type": "code",
   "execution_count": 55,
   "id": "2d56a5a9",
   "metadata": {},
   "outputs": [
    {
     "data": {
      "text/plain": [
       "1"
      ]
     },
     "execution_count": 55,
     "metadata": {},
     "output_type": "execute_result"
    }
   ],
   "source": [
    "# Returns number of items in tuple\n",
    "tuple1.count(25)"
   ]
  },
  {
   "cell_type": "code",
   "execution_count": 56,
   "id": "33b33d21",
   "metadata": {},
   "outputs": [
    {
     "name": "stdout",
     "output_type": "stream",
     "text": [
      "First item: 25\n",
      "Second item: text\n",
      "Third item: True\n",
      "Last item: 56.8\n"
     ]
    }
   ],
   "source": [
    "# Unpacking tuples into variables\n",
    "first, second, third, last = tuple1\n",
    "print(\"First item:\",first)\n",
    "print(\"Second item:\",second)\n",
    "print(\"Third item:\",third)\n",
    "print(\"Last item:\",last)"
   ]
  },
  {
   "cell_type": "code",
   "execution_count": 57,
   "id": "04074c14",
   "metadata": {},
   "outputs": [
    {
     "name": "stdout",
     "output_type": "stream",
     "text": [
      "First item: 25\n",
      "Second item: text\n",
      "Other items: [True, 56.8]\n"
     ]
    }
   ],
   "source": [
    "# Unpacking tuples into variables (Dumping other elements of tuples into single variable)\n",
    "first, second, *others = tuple1\n",
    "print(\"First item:\",first)\n",
    "print(\"Second item:\",second)\n",
    "print(\"Other items:\",others)"
   ]
  },
  {
   "cell_type": "markdown",
   "id": "799074b4",
   "metadata": {},
   "source": [
    "### Sequence Data (Dictionaries)\n",
    "\n",
    "Dictionaries are unordered collection of key-value pairs, also known as hash-map or associative arrays.\n",
    "\n",
    "Dictionaries are created using the following format: \"{key : value}\"\n",
    "\n",
    "Similar to lists, dictionaries are also mutable.\n",
    "\n",
    "However, indexing of dictionaries does not rely on index positions. Instead, keys are used to extract elements of dictionaries.\n",
    "\n",
    "The following functions are applicable for dictionaries:"
   ]
  },
  {
   "cell_type": "code",
   "execution_count": 58,
   "id": "2ddac550",
   "metadata": {},
   "outputs": [],
   "source": [
    "dict1 = {\"number\": 1, \"text\": \"sentence one\", \"other values\": 35.7}"
   ]
  },
  {
   "cell_type": "code",
   "execution_count": 59,
   "id": "4cfd4336",
   "metadata": {},
   "outputs": [
    {
     "data": {
      "text/plain": [
       "dict_keys(['number', 'text', 'other values'])"
      ]
     },
     "execution_count": 59,
     "metadata": {},
     "output_type": "execute_result"
    }
   ],
   "source": [
    "# Obtain all keys from dictionary\n",
    "dict1.keys()"
   ]
  },
  {
   "cell_type": "code",
   "execution_count": 60,
   "id": "c05ae3dd",
   "metadata": {},
   "outputs": [
    {
     "data": {
      "text/plain": [
       "dict_values([1, 'sentence one', 35.7])"
      ]
     },
     "execution_count": 60,
     "metadata": {},
     "output_type": "execute_result"
    }
   ],
   "source": [
    "# Obtain all values from dictionary\n",
    "dict1.values()"
   ]
  },
  {
   "cell_type": "code",
   "execution_count": 61,
   "id": "a2ebb2cf",
   "metadata": {},
   "outputs": [
    {
     "data": {
      "text/plain": [
       "dict_items([('number', 1), ('text', 'sentence one'), ('other values', 35.7)])"
      ]
     },
     "execution_count": 61,
     "metadata": {},
     "output_type": "execute_result"
    }
   ],
   "source": [
    "# Obtain all key-value pairs (tuple format) from dictionary\n",
    "dict1.items()"
   ]
  },
  {
   "cell_type": "code",
   "execution_count": 62,
   "id": "a05dcf20",
   "metadata": {},
   "outputs": [
    {
     "data": {
      "text/plain": [
       "'sentence one'"
      ]
     },
     "execution_count": 62,
     "metadata": {},
     "output_type": "execute_result"
    }
   ],
   "source": [
    "# Obtain value from specified key in dictionary\n",
    "dict1.get(\"text\")"
   ]
  },
  {
   "cell_type": "code",
   "execution_count": 63,
   "id": "9f22de5e",
   "metadata": {},
   "outputs": [
    {
     "data": {
      "text/plain": [
       "{'number': 1, 'text': 'sentence one', 'other values': 35.7, 'new item': 5.6}"
      ]
     },
     "execution_count": 63,
     "metadata": {},
     "output_type": "execute_result"
    }
   ],
   "source": [
    "# Adding new key-value pairs to dictionary\n",
    "dict1['new item'] = 5.6\n",
    "dict1"
   ]
  },
  {
   "cell_type": "code",
   "execution_count": 64,
   "id": "83fe801a",
   "metadata": {
    "run_control": {
     "marked": true
    }
   },
   "outputs": [
    {
     "data": {
      "text/plain": [
       "{'number': 5, 'text': 'sentence one', 'other values': 35.7, 'new item': 5.6}"
      ]
     },
     "execution_count": 64,
     "metadata": {},
     "output_type": "execute_result"
    }
   ],
   "source": [
    "# Update key-value pair or create new key-value pair if key doesn't exist\n",
    "dict1.update({\"number\":5})\n",
    "dict1"
   ]
  },
  {
   "cell_type": "code",
   "execution_count": 65,
   "id": "0a7d55e5",
   "metadata": {},
   "outputs": [
    {
     "data": {
      "text/plain": [
       "{'number': 5,\n",
       " 'text': 'sentence one',\n",
       " 'other values': 35.7,\n",
       " 'new item': 5.6,\n",
       " 'default': 2}"
      ]
     },
     "execution_count": 65,
     "metadata": {},
     "output_type": "execute_result"
    }
   ],
   "source": [
    "# Update value of key to specified default value if key doesn't exist\n",
    "dict1.setdefault(\"default\",2)\n",
    "dict1"
   ]
  },
  {
   "cell_type": "code",
   "execution_count": 66,
   "id": "a84067cf",
   "metadata": {},
   "outputs": [
    {
     "name": "stdout",
     "output_type": "stream",
     "text": [
      "2\n",
      "{'number': 5, 'text': 'sentence one', 'other values': 35.7, 'new item': 5.6}\n"
     ]
    }
   ],
   "source": [
    "# Populates value of key specified and removes the specified key-value pair from the dictionary\n",
    "print(dict1.pop(\"default\"))\n",
    "print(dict1)"
   ]
  },
  {
   "cell_type": "code",
   "execution_count": 67,
   "id": "23bfdf53",
   "metadata": {},
   "outputs": [
    {
     "name": "stdout",
     "output_type": "stream",
     "text": [
      "('new item', 5.6)\n",
      "{'number': 5, 'text': 'sentence one', 'other values': 35.7}\n"
     ]
    }
   ],
   "source": [
    "# Populates last key-value pair and removes it from the dictionary\n",
    "print(dict1.popitem())\n",
    "print(dict1)"
   ]
  },
  {
   "cell_type": "code",
   "execution_count": 68,
   "id": "ccb006d3",
   "metadata": {},
   "outputs": [
    {
     "name": "stdout",
     "output_type": "stream",
     "text": [
      "Copied dictionary: {'number': 5, 'text': 'sentence one', 'other values': 35.7, 'extra': True}\n",
      "Original dictionary: {'number': 5, 'text': 'sentence one', 'other values': 35.7}\n"
     ]
    }
   ],
   "source": [
    "# Creating a shallow copy of dictionary objects\n",
    "dict2 = dict1.copy()\n",
    "dict2['extra'] = True\n",
    "print(\"Copied dictionary:\",dict2)\n",
    "print(\"Original dictionary:\",dict1)"
   ]
  },
  {
   "cell_type": "code",
   "execution_count": 69,
   "id": "73dbc8cd",
   "metadata": {},
   "outputs": [
    {
     "name": "stdout",
     "output_type": "stream",
     "text": [
      "Copied dictionary: {'number': 5, 'text': 'sentence one', 'other values': 35.7, 'extra': True}\n",
      "Original dictionary: {'number': 5, 'text': 'sentence one', 'other values': 35.7, 'extra': True}\n"
     ]
    }
   ],
   "source": [
    "# Without creating a shallow copy of dictionary objects\n",
    "dict3 = dict1\n",
    "dict3['extra'] = True\n",
    "print(\"Copied dictionary:\",dict3)\n",
    "print(\"Original dictionary:\",dict1)"
   ]
  },
  {
   "cell_type": "markdown",
   "id": "4b611096",
   "metadata": {},
   "source": [
    "### Sequence Data (Sets)\n",
    "\n",
    "Sets are unordered collection of unique elements.\n",
    "\n",
    "Sets are defined by using the following format: \"{value1, value2, ...}\"\n",
    "\n",
    "Note that individual elements of sets cannot be indexed.\n",
    "\n",
    "The following operations can be used in sets:"
   ]
  },
  {
   "cell_type": "code",
   "execution_count": 70,
   "id": "8105c3a4",
   "metadata": {},
   "outputs": [],
   "source": [
    "set1 = {456, 25.6, \"apple\", \"bananas\", 23}\n",
    "set2 = {25.6, 456, \"apple\", 79, True, False}"
   ]
  },
  {
   "cell_type": "code",
   "execution_count": 71,
   "id": "bd316124",
   "metadata": {},
   "outputs": [
    {
     "data": {
      "text/plain": [
       "{23, 25.6, 456, 'apple', 'bananas', 'sandwiches'}"
      ]
     },
     "execution_count": 71,
     "metadata": {},
     "output_type": "execute_result"
    }
   ],
   "source": [
    "# Adding unique item to set\n",
    "set1.add(\"sandwiches\")\n",
    "set1.add(23) #Note that 23 has already been included in set1. So, no changes to the set for this operation.\n",
    "set1"
   ]
  },
  {
   "cell_type": "code",
   "execution_count": 72,
   "id": "7e786213",
   "metadata": {},
   "outputs": [
    {
     "name": "stdout",
     "output_type": "stream",
     "text": [
      "{False, True, 'apple', 456, 79, 'sandwiches', 23, 25.6, 'bananas'}\n",
      "{False, True, 'apple', 456, 79, 'sandwiches', 23, 25.6, 'bananas'}\n"
     ]
    }
   ],
   "source": [
    "# Extract all elements from multiple sets (union function)\n",
    "print(set1.union(set2))\n",
    "print(set1 | set2)"
   ]
  },
  {
   "cell_type": "code",
   "execution_count": 73,
   "id": "7ce51f40",
   "metadata": {},
   "outputs": [
    {
     "name": "stdout",
     "output_type": "stream",
     "text": [
      "Before set update: {'apple', 'sandwiches', 23, 456, 25.6, 'bananas'}\n",
      "After set update: {False, True, 'apple', 456, 79, 'sandwiches', 23, 25.6, 'bananas'}\n"
     ]
    }
   ],
   "source": [
    "set5 = set1.copy()\n",
    "print(\"Before set update:\",set5)\n",
    "set5.update(set2) # Union update\n",
    "print(\"After set update:\",set5)"
   ]
  },
  {
   "cell_type": "code",
   "execution_count": 74,
   "id": "1302110e",
   "metadata": {},
   "outputs": [
    {
     "name": "stdout",
     "output_type": "stream",
     "text": [
      "{456, 'apple', 25.6}\n",
      "{456, 'apple', 25.6}\n"
     ]
    }
   ],
   "source": [
    "# Extract all common elements from multiple sets (intersection function)\n",
    "print(set1.intersection(set2))\n",
    "print(set1 & set2)"
   ]
  },
  {
   "cell_type": "code",
   "execution_count": 75,
   "id": "52c56cbd",
   "metadata": {},
   "outputs": [
    {
     "name": "stdout",
     "output_type": "stream",
     "text": [
      "Before set update: {'apple', 'sandwiches', 23, 456, 25.6, 'bananas'}\n",
      "After set update: {456, 'apple', 25.6}\n"
     ]
    }
   ],
   "source": [
    "set5 = set1.copy()\n",
    "print(\"Before set update:\",set5)\n",
    "set5.intersection_update(set2) # Intersection update\n",
    "print(\"After set update:\",set5)"
   ]
  },
  {
   "cell_type": "code",
   "execution_count": 76,
   "id": "a2977acc",
   "metadata": {},
   "outputs": [
    {
     "name": "stdout",
     "output_type": "stream",
     "text": [
      "{'bananas', 'sandwiches', 23}\n",
      "{'bananas', 'sandwiches', 23}\n"
     ]
    }
   ],
   "source": [
    "# Extract all elements in first set that are not in second set (difference function)\n",
    "print(set1.difference(set2))\n",
    "print(set1 - set2)"
   ]
  },
  {
   "cell_type": "code",
   "execution_count": 77,
   "id": "ab530db8",
   "metadata": {},
   "outputs": [
    {
     "name": "stdout",
     "output_type": "stream",
     "text": [
      "Before set update: {'apple', 'sandwiches', 23, 456, 25.6, 'bananas'}\n",
      "After set update: {'sandwiches', 23, 'bananas'}\n"
     ]
    }
   ],
   "source": [
    "set5 = set1.copy()\n",
    "print(\"Before set update:\",set5)\n",
    "set5.difference_update(set2) # Difference update\n",
    "print(\"After set update:\",set5)"
   ]
  },
  {
   "cell_type": "code",
   "execution_count": 78,
   "id": "6b089a70",
   "metadata": {
    "scrolled": true
   },
   "outputs": [
    {
     "name": "stdout",
     "output_type": "stream",
     "text": [
      "{False, True, 79, 'sandwiches', 23, 'bananas'}\n",
      "{False, True, 79, 'sandwiches', 23, 'bananas'}\n"
     ]
    }
   ],
   "source": [
    "# Extract all elements in either set but not both sets (symmetric_difference function)\n",
    "print(set1.symmetric_difference(set2))\n",
    "print(set1 ^ set2)"
   ]
  },
  {
   "cell_type": "code",
   "execution_count": 79,
   "id": "dd8b5461",
   "metadata": {},
   "outputs": [
    {
     "name": "stdout",
     "output_type": "stream",
     "text": [
      "Before set update: {'apple', 'sandwiches', 23, 456, 25.6, 'bananas'}\n",
      "After set update: {False, True, 79, 'sandwiches', 23, 'bananas'}\n"
     ]
    }
   ],
   "source": [
    "set5 = set1.copy()\n",
    "print(\"Before set update:\",set5)\n",
    "set5.symmetric_difference_update(set2) # Symmetric_Difference update\n",
    "print(\"After set update:\",set5)"
   ]
  },
  {
   "cell_type": "code",
   "execution_count": 80,
   "id": "50235c63",
   "metadata": {},
   "outputs": [],
   "source": [
    "set3 = {24,25,26,27,28}\n",
    "set4 = {25,26,27}"
   ]
  },
  {
   "cell_type": "code",
   "execution_count": 81,
   "id": "dbe7bc1c",
   "metadata": {},
   "outputs": [
    {
     "name": "stdout",
     "output_type": "stream",
     "text": [
      "Is Set3 subset of Set4? : False\n",
      "Is Set4 subset of Set3? : True\n"
     ]
    }
   ],
   "source": [
    "# Checks if set one is a subset of set two (all elements in set one are in set two)\n",
    "print(\"Is Set3 subset of Set4? :\",set3.issubset(set4))\n",
    "print(\"Is Set4 subset of Set3? :\",set4.issubset(set3))"
   ]
  },
  {
   "cell_type": "code",
   "execution_count": 82,
   "id": "95766cdb",
   "metadata": {},
   "outputs": [
    {
     "name": "stdout",
     "output_type": "stream",
     "text": [
      "Is Set3 superset of Set4? : True\n",
      "Is Set4 superset of Set3? : False\n"
     ]
    }
   ],
   "source": [
    "# Checks if set one is a superset of set two (all elements in set two are in set one)\n",
    "print(\"Is Set3 superset of Set4? :\",set3.issuperset(set4))\n",
    "print(\"Is Set4 superset of Set3? :\",set4.issuperset(set3))"
   ]
  },
  {
   "cell_type": "code",
   "execution_count": 83,
   "id": "d8acdce2",
   "metadata": {},
   "outputs": [
    {
     "data": {
      "text/plain": [
       "False"
      ]
     },
     "execution_count": 83,
     "metadata": {},
     "output_type": "execute_result"
    }
   ],
   "source": [
    "# Checks if both sets have no common elements between each other\n",
    "set3.isdisjoint(set4)"
   ]
  },
  {
   "cell_type": "code",
   "execution_count": 84,
   "id": "190625c4",
   "metadata": {},
   "outputs": [
    {
     "name": "stdout",
     "output_type": "stream",
     "text": [
      "Before remove element: {24, 25, 26, 27, 28}\n",
      "After remove element: {24, 25, 26, 27, 28}\n"
     ]
    }
   ],
   "source": [
    "# Remove specific element from the set (No changes if element is not in the set)\n",
    "print(\"Before remove element:\",set3)\n",
    "set3.discard(30) #Element 30 is not in set3\n",
    "print(\"After remove element:\",set3)"
   ]
  },
  {
   "cell_type": "code",
   "execution_count": 85,
   "id": "55ad9d26",
   "metadata": {},
   "outputs": [
    {
     "name": "stdout",
     "output_type": "stream",
     "text": [
      "Before remove element: {24, 25, 26, 27, 28}\n",
      "After remove element: {24, 25, 27, 28}\n"
     ]
    }
   ],
   "source": [
    "# Remove specific element from the set (Returns error if element is not in the set)\n",
    "print(\"Before remove element:\",set3)\n",
    "set3.remove(26)\n",
    "print(\"After remove element:\",set3)"
   ]
  },
  {
   "cell_type": "code",
   "execution_count": 86,
   "id": "e83e9b52",
   "metadata": {},
   "outputs": [
    {
     "name": "stdout",
     "output_type": "stream",
     "text": [
      "Before remove element: {24, 25, 27, 28}\n",
      "After remove element: {25, 27, 28}\n"
     ]
    }
   ],
   "source": [
    "# Remove arbitrary element from the set\n",
    "print(\"Before remove element:\",set3)\n",
    "set3.pop()\n",
    "print(\"After remove element:\",set3)"
   ]
  },
  {
   "cell_type": "code",
   "execution_count": 87,
   "id": "061c444d",
   "metadata": {},
   "outputs": [
    {
     "name": "stdout",
     "output_type": "stream",
     "text": [
      "Before remove elements: {25, 27, 28}\n",
      "After remove elements: set()\n"
     ]
    }
   ],
   "source": [
    "# Remove all elements from the set\n",
    "print(\"Before remove elements:\",set3)\n",
    "set3.clear()\n",
    "print(\"After remove elements:\",set3)"
   ]
  },
  {
   "cell_type": "markdown",
   "id": "ae9fafc6",
   "metadata": {},
   "source": [
    "Note that sets can also be immutable by using frozen sets.\n",
    "\n",
    "Frozen sets are defined using frozenset() function:"
   ]
  },
  {
   "cell_type": "code",
   "execution_count": 88,
   "id": "1fcfd896",
   "metadata": {
    "scrolled": true
   },
   "outputs": [
    {
     "data": {
      "text/plain": [
       "frozenset({2, 3, 5, 6})"
      ]
     },
     "execution_count": 88,
     "metadata": {},
     "output_type": "execute_result"
    }
   ],
   "source": [
    "fset1 = frozenset({3,2,5,6})\n",
    "fset1"
   ]
  },
  {
   "cell_type": "markdown",
   "id": "183168f1",
   "metadata": {},
   "source": [
    "Similar to tuples, individual elements of frozen sets cannot be updated after defined. Thus, update and remove operations of individual elements are not available for frozen sets."
   ]
  },
  {
   "cell_type": "markdown",
   "id": "3cd31b17",
   "metadata": {},
   "source": [
    "### Built-in Sequence Functions\n",
    "\n",
    "The following are the most common built-in sequence functions that can be used on all types of sequence data:"
   ]
  },
  {
   "cell_type": "code",
   "execution_count": 89,
   "id": "bc94bb90",
   "metadata": {},
   "outputs": [
    {
     "data": {
      "text/plain": [
       "{0: 25, 1: 27, 2: 78, 3: 56}"
      ]
     },
     "execution_count": 89,
     "metadata": {},
     "output_type": "execute_result"
    }
   ],
   "source": [
    "# enumerate function (sequence iteration with index-value pairs)\n",
    "list1 = [25, 27, 78, 56]\n",
    "dict1 = {}\n",
    "for index, value in enumerate(list1):\n",
    "    dict1[index] = value\n",
    "dict1"
   ]
  },
  {
   "cell_type": "code",
   "execution_count": 90,
   "id": "b144ae0f",
   "metadata": {},
   "outputs": [
    {
     "name": "stdout",
     "output_type": "stream",
     "text": [
      "[78, 46, 24, 12]\n",
      "['is', 'This', 'string']\n"
     ]
    }
   ],
   "source": [
    "# sorted function (sorts numerical collection in ascending or descending order without overwriting existing collection)\n",
    "print(sorted([24,12,46,78], reverse=True))\n",
    "\n",
    "# Sorts tuple by length of text in ascending order\n",
    "print(sorted((\"This\", \"is\", \"string\"), key=len))"
   ]
  },
  {
   "cell_type": "code",
   "execution_count": 91,
   "id": "9a69495f",
   "metadata": {},
   "outputs": [
    {
     "data": {
      "text/plain": [
       "[56.7, 'normal', 'This', 24]"
      ]
     },
     "execution_count": 91,
     "metadata": {},
     "output_type": "execute_result"
    }
   ],
   "source": [
    "# reversed function (iterator used for mirroring order of collection)\n",
    "list(reversed([24,\"This\",\"normal\", 56.7]))"
   ]
  },
  {
   "cell_type": "code",
   "execution_count": 92,
   "id": "9ac1fb41",
   "metadata": {},
   "outputs": [
    {
     "data": {
      "text/plain": [
       "[('first', 1), ('second', 2), ('third', 3)]"
      ]
     },
     "execution_count": 92,
     "metadata": {},
     "output_type": "execute_result"
    }
   ],
   "source": [
    "# zip function (pairs up collections to create a list of paired tuples)\n",
    "keys = [\"first\",\"second\",\"third\"]\n",
    "values = (1,2,3)\n",
    "list(zip(keys, values))"
   ]
  },
  {
   "cell_type": "markdown",
   "id": "56f4d7d3",
   "metadata": {},
   "source": [
    "### List, Set and Dictionary Comprehensions\n",
    "\n",
    "Comprehensions can be used in lists, sets and dictionaries to concisely form a new collection in a single expression by:\n",
    "1. Filtering elements (Optional)\n",
    "2. Transforming elements\n",
    "3. Passing filtered elements\n",
    "\n",
    "General format of comprehension: \n",
    "\n",
    "1. List comprehension: [expr for value in collection if condition]\n",
    "2. Set comprehension: {expr for value in collection if condition}\n",
    "3. Dictionary comprehension: {key-expr : value-expr for value in collection if condition}\n",
    "\n",
    "The following examples below shows the use of comprehensions:"
   ]
  },
  {
   "cell_type": "code",
   "execution_count": 93,
   "id": "c38cfda7",
   "metadata": {},
   "outputs": [
    {
     "data": {
      "text/plain": [
       "[16.5, 17.5]"
      ]
     },
     "execution_count": 93,
     "metadata": {},
     "output_type": "execute_result"
    }
   ],
   "source": [
    "# List comprehension\n",
    "list1 = [25, 27, 29, 31]\n",
    "[i/2 + 2 for i in list1 if i > 28]"
   ]
  },
  {
   "cell_type": "code",
   "execution_count": 94,
   "id": "8a79cd5c",
   "metadata": {},
   "outputs": [
    {
     "data": {
      "text/plain": [
       "{'AWESOME', 'THIS'}"
      ]
     },
     "execution_count": 94,
     "metadata": {},
     "output_type": "execute_result"
    }
   ],
   "source": [
    "# Set comprehension\n",
    "set1 = {\"This\", \"is\", \"AweSome\"}\n",
    "{x.upper() for x in set1 if len(x)>2}"
   ]
  },
  {
   "cell_type": "code",
   "execution_count": 95,
   "id": "07357ea9",
   "metadata": {},
   "outputs": [
    {
     "data": {
      "text/plain": [
       "{1: 'first', 2: 'second', 3: 'third'}"
      ]
     },
     "execution_count": 95,
     "metadata": {},
     "output_type": "execute_result"
    }
   ],
   "source": [
    "#Dictionary comprehension\n",
    "dict1 = {\"first\":1, \"second\":2, \"third\":3}\n",
    "{dict1.get(x) : x  for x in dict1}"
   ]
  }
 ],
 "metadata": {
  "hide_input": false,
  "kernelspec": {
   "display_name": "Python 3 (ipykernel)",
   "language": "python",
   "name": "python3"
  },
  "language_info": {
   "codemirror_mode": {
    "name": "ipython",
    "version": 3
   },
   "file_extension": ".py",
   "mimetype": "text/x-python",
   "name": "python",
   "nbconvert_exporter": "python",
   "pygments_lexer": "ipython3",
   "version": "3.8.11"
  },
  "toc": {
   "base_numbering": 1,
   "nav_menu": {},
   "number_sections": true,
   "sideBar": true,
   "skip_h1_title": false,
   "title_cell": "Table of Contents",
   "title_sidebar": "Contents",
   "toc_cell": false,
   "toc_position": {},
   "toc_section_display": true,
   "toc_window_display": false
  },
  "varInspector": {
   "cols": {
    "lenName": 16,
    "lenType": 16,
    "lenVar": 40
   },
   "kernels_config": {
    "python": {
     "delete_cmd_postfix": "",
     "delete_cmd_prefix": "del ",
     "library": "var_list.py",
     "varRefreshCmd": "print(var_dic_list())"
    },
    "r": {
     "delete_cmd_postfix": ") ",
     "delete_cmd_prefix": "rm(",
     "library": "var_list.r",
     "varRefreshCmd": "cat(var_dic_list()) "
    }
   },
   "types_to_exclude": [
    "module",
    "function",
    "builtin_function_or_method",
    "instance",
    "_Feature"
   ],
   "window_display": false
  }
 },
 "nbformat": 4,
 "nbformat_minor": 5
}
