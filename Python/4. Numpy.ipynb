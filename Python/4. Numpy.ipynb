{
 "cells": [
  {
   "cell_type": "markdown",
   "id": "dc77aeab",
   "metadata": {},
   "source": [
    "## Numpy\n",
    "\n",
    "Numpy is one of the most important foundational blocks of numerical computing in Python, which is integrated with C/C++ programming language.\n",
    "\n",
    "Numpy is designed to work efficiently with large arrays of data, given that Numpy internally stores data in a contiguous block of memory with lower memory size, independent of other built-in Python objects.\n",
    "\n",
    "In addition, Numpy excels at performing complex computations on entire arrays without the need of Python loops.\n",
    "\n",
    "Refer to the following link for the documentation of Numpy library: https://numpy.org/doc/1.21/reference/index.html"
   ]
  },
  {
   "cell_type": "code",
   "execution_count": 1,
   "id": "322941fa",
   "metadata": {},
   "outputs": [],
   "source": [
    "# Import numpy library from Python\n",
    "import numpy as np"
   ]
  },
  {
   "cell_type": "markdown",
   "id": "4efb3cf3",
   "metadata": {},
   "source": [
    "### Creating N-dimensional arrays"
   ]
  },
  {
   "cell_type": "code",
   "execution_count": 2,
   "id": "6c25c0f2",
   "metadata": {},
   "outputs": [
    {
     "data": {
      "text/plain": [
       "array([2, 3, 4, 5, 6])"
      ]
     },
     "execution_count": 2,
     "metadata": {},
     "output_type": "execute_result"
    }
   ],
   "source": [
    "# Creating 1-dimensional array\n",
    "arr1 = np.array([2,3,4,5,6])\n",
    "arr1"
   ]
  },
  {
   "cell_type": "code",
   "execution_count": 3,
   "id": "5a2a062e",
   "metadata": {},
   "outputs": [
    {
     "name": "stdout",
     "output_type": "stream",
     "text": [
      "Shape of array: (5,)\n",
      "Number of array dimension: 1\n",
      "Data type of array: int32\n"
     ]
    }
   ],
   "source": [
    "print(\"Shape of array:\", arr1.shape)\n",
    "print(\"Number of array dimension:\", arr1.ndim)\n",
    "print(\"Data type of array:\", arr1.dtype)"
   ]
  },
  {
   "cell_type": "code",
   "execution_count": 4,
   "id": "c478e361",
   "metadata": {},
   "outputs": [
    {
     "data": {
      "text/plain": [
       "array([[5.4, 3.4, 2.1, 4.1, 2.7],\n",
       "       [1.4, 2.6, 1.8, 1.5, 2.4]])"
      ]
     },
     "execution_count": 4,
     "metadata": {},
     "output_type": "execute_result"
    }
   ],
   "source": [
    "# Creating 2-dimensional array\n",
    "arr2 = np.array([[5.4,3.4,2.1,4.1,2.7],[1.4,2.6,1.8,1.5,2.4]])\n",
    "arr2"
   ]
  },
  {
   "cell_type": "code",
   "execution_count": 5,
   "id": "d5fe5080",
   "metadata": {},
   "outputs": [
    {
     "name": "stdout",
     "output_type": "stream",
     "text": [
      "Shape of array: (2, 5)\n",
      "Number of array dimension: 2\n",
      "Data type of array: float64\n"
     ]
    }
   ],
   "source": [
    "print(\"Shape of array:\", arr2.shape)\n",
    "print(\"Number of array dimension:\", arr2.ndim)\n",
    "print(\"Data type of array:\", arr2.dtype)"
   ]
  },
  {
   "cell_type": "code",
   "execution_count": 6,
   "id": "1b9a7c7e",
   "metadata": {},
   "outputs": [
    {
     "data": {
      "text/plain": [
       "array([[[245, 123, 267],\n",
       "        [123,  45, 356],\n",
       "        [234, 265, 765]],\n",
       "\n",
       "       [[234,  11, 321],\n",
       "        [562,  23, 432],\n",
       "        [ 61,  74,  56]]])"
      ]
     },
     "execution_count": 6,
     "metadata": {},
     "output_type": "execute_result"
    }
   ],
   "source": [
    "# Creating 3-dimensional array\n",
    "arr3 = np.array([[[245,123,267],[123,45,356],[234,265,765]], [[234,11,321],[562,23,432],[61,74,56]]])\n",
    "arr3"
   ]
  },
  {
   "cell_type": "code",
   "execution_count": 7,
   "id": "fa383262",
   "metadata": {},
   "outputs": [
    {
     "name": "stdout",
     "output_type": "stream",
     "text": [
      "Shape of array: (2, 3, 3)\n",
      "Number of array dimension: 3\n",
      "Data type of array: int32\n"
     ]
    }
   ],
   "source": [
    "print(\"Shape of array:\", arr3.shape)\n",
    "print(\"Number of array dimension:\", arr3.ndim)\n",
    "print(\"Data type of array:\", arr3.dtype)"
   ]
  },
  {
   "cell_type": "markdown",
   "id": "019ca68d",
   "metadata": {},
   "source": [
    "There are also other built-in functions available in numpy for creating special types of arrays."
   ]
  },
  {
   "cell_type": "code",
   "execution_count": 8,
   "id": "cb50220a",
   "metadata": {},
   "outputs": [
    {
     "data": {
      "text/plain": [
       "array([ 2,  7, 12, 17, 22, 27, 32, 37, 42, 47, 52, 57, 62, 67, 72, 77, 82,\n",
       "       87, 92, 97])"
      ]
     },
     "execution_count": 8,
     "metadata": {},
     "output_type": "execute_result"
    }
   ],
   "source": [
    "# Create an array of sequential values (Alternative to range function, which returns a list)\n",
    "arr4 = np.arange(2,100,5)\n",
    "arr4"
   ]
  },
  {
   "cell_type": "code",
   "execution_count": 9,
   "id": "155d0a51",
   "metadata": {},
   "outputs": [
    {
     "data": {
      "text/plain": [
       "array([[1., 1., 1.],\n",
       "       [1., 1., 1.]])"
      ]
     },
     "execution_count": 9,
     "metadata": {},
     "output_type": "execute_result"
    }
   ],
   "source": [
    "# Create an array with values of 1 at specified dimension (tuple form)\n",
    "arr5 = np.ones((2,3))\n",
    "arr5"
   ]
  },
  {
   "cell_type": "code",
   "execution_count": 10,
   "id": "3227b328",
   "metadata": {},
   "outputs": [
    {
     "data": {
      "text/plain": [
       "array([[[0., 0., 0., 0.],\n",
       "        [0., 0., 0., 0.],\n",
       "        [0., 0., 0., 0.]],\n",
       "\n",
       "       [[0., 0., 0., 0.],\n",
       "        [0., 0., 0., 0.],\n",
       "        [0., 0., 0., 0.]]])"
      ]
     },
     "execution_count": 10,
     "metadata": {},
     "output_type": "execute_result"
    }
   ],
   "source": [
    "# Create an array with values of 0 at specified dimension (tuple form)\n",
    "arr6 = np.zeros((2,3,4))\n",
    "arr6"
   ]
  },
  {
   "cell_type": "code",
   "execution_count": 11,
   "id": "6131a790",
   "metadata": {},
   "outputs": [
    {
     "data": {
      "text/plain": [
       "array([[0., 0., 0., 0., 0.],\n",
       "       [0., 0., 0., 0., 0.],\n",
       "       [0., 0., 0., 0., 0.],\n",
       "       [0., 0., 0., 0., 0.],\n",
       "       [0., 0., 0., 0., 0.]])"
      ]
     },
     "execution_count": 11,
     "metadata": {},
     "output_type": "execute_result"
    }
   ],
   "source": [
    "# Create a new array without populating any values at specified dimension (tuple form)\n",
    "arr7 = np.empty((5,5))\n",
    "arr7"
   ]
  },
  {
   "cell_type": "code",
   "execution_count": 12,
   "id": "3a6873a4",
   "metadata": {},
   "outputs": [
    {
     "data": {
      "text/plain": [
       "array([[2, 2, 2, 2, 2],\n",
       "       [2, 2, 2, 2, 2],\n",
       "       [2, 2, 2, 2, 2],\n",
       "       [2, 2, 2, 2, 2],\n",
       "       [2, 2, 2, 2, 2]])"
      ]
     },
     "execution_count": 12,
     "metadata": {},
     "output_type": "execute_result"
    }
   ],
   "source": [
    "# Create a new array with specific value at specified dimension (tuple form)\n",
    "arr8 = np.full((5,5), 2)\n",
    "arr8"
   ]
  },
  {
   "cell_type": "code",
   "execution_count": 13,
   "id": "716011be",
   "metadata": {
    "scrolled": true
   },
   "outputs": [
    {
     "data": {
      "text/plain": [
       "array([[1., 0., 0., 0.],\n",
       "       [0., 1., 0., 0.],\n",
       "       [0., 0., 1., 0.],\n",
       "       [0., 0., 0., 1.]])"
      ]
     },
     "execution_count": 13,
     "metadata": {},
     "output_type": "execute_result"
    }
   ],
   "source": [
    "# Create a new NxN array (identity matrix) with 1s on diagonal and 0s elsewhere\n",
    "arr9 = np.identity(4)\n",
    "arr9"
   ]
  },
  {
   "cell_type": "markdown",
   "id": "10811410",
   "metadata": {},
   "source": [
    "### Converting data types of arrays"
   ]
  },
  {
   "cell_type": "markdown",
   "id": "8c2bae74",
   "metadata": {},
   "source": [
    "Arrays can be converted to different data types (explicit casting) as shown below:\n",
    "\n",
    "1. int, uint (signed and unsigned integers)\n",
    "2. float\n",
    "3. complex\n",
    "4. bool\n",
    "5. object\n",
    "6. string_\n",
    "7. unicode_"
   ]
  },
  {
   "cell_type": "code",
   "execution_count": 14,
   "id": "e19a9e1d",
   "metadata": {},
   "outputs": [
    {
     "data": {
      "text/plain": [
       "array([2, 3, 4, 5, 6], dtype=object)"
      ]
     },
     "execution_count": 14,
     "metadata": {},
     "output_type": "execute_result"
    }
   ],
   "source": [
    "# Converting array data type from integer to object\n",
    "arr1.astype('object')"
   ]
  },
  {
   "cell_type": "code",
   "execution_count": 15,
   "id": "60239040",
   "metadata": {},
   "outputs": [
    {
     "data": {
      "text/plain": [
       "array([[[245., 123., 267.],\n",
       "        [123.,  45., 356.],\n",
       "        [234., 265., 765.]],\n",
       "\n",
       "       [[234.,  11., 321.],\n",
       "        [562.,  23., 432.],\n",
       "        [ 61.,  74.,  56.]]])"
      ]
     },
     "execution_count": 15,
     "metadata": {},
     "output_type": "execute_result"
    }
   ],
   "source": [
    "# Converting array data type from integer to float\n",
    "arr3.astype('float')"
   ]
  },
  {
   "cell_type": "markdown",
   "id": "d8c610eb",
   "metadata": {},
   "source": [
    "### Arithmetic operations on arrays"
   ]
  },
  {
   "cell_type": "markdown",
   "id": "c3835c7f",
   "metadata": {},
   "source": [
    "Arithmetic operations performed on arrays are always computed in element-wise (vectorized form).\n",
    "\n",
    "Note that arrays may not necessary need to have the same shape for mathematical operations to perform, since Numpy uses the concept of \"broadcasting\"."
   ]
  },
  {
   "cell_type": "code",
   "execution_count": 16,
   "id": "039c91ee",
   "metadata": {},
   "outputs": [
    {
     "data": {
      "text/plain": [
       "array([[7.4, 6.4, 6.1, 9.1, 8.7],\n",
       "       [3.4, 5.6, 5.8, 6.5, 8.4]])"
      ]
     },
     "execution_count": 16,
     "metadata": {},
     "output_type": "execute_result"
    }
   ],
   "source": [
    "# Addition of two arrays with different shapes\n",
    "arr1 + arr2"
   ]
  },
  {
   "cell_type": "code",
   "execution_count": 17,
   "id": "0cfa3ae3",
   "metadata": {},
   "outputs": [
    {
     "data": {
      "text/plain": [
       "array([[[122.5,  61.5, 133.5],\n",
       "        [ 61.5,  22.5, 178. ],\n",
       "        [117. , 132.5, 382.5]],\n",
       "\n",
       "       [[117. ,   5.5, 160.5],\n",
       "        [281. ,  11.5, 216. ],\n",
       "        [ 30.5,  37. ,  28. ]]])"
      ]
     },
     "execution_count": 17,
     "metadata": {},
     "output_type": "execute_result"
    }
   ],
   "source": [
    "# Dividing every element of array by scalar value of 2\n",
    "arr3 / 2"
   ]
  },
  {
   "cell_type": "code",
   "execution_count": 18,
   "id": "2c528448",
   "metadata": {},
   "outputs": [
    {
     "data": {
      "text/plain": [
       "array([False, False, False, False,  True,  True,  True,  True,  True,\n",
       "        True, False, False, False, False, False, False, False, False,\n",
       "       False, False])"
      ]
     },
     "execution_count": 18,
     "metadata": {},
     "output_type": "execute_result"
    }
   ],
   "source": [
    "# Checking for multiple conditions of an array element-wise\n",
    "(arr4 > 20) & (arr4 < 50)"
   ]
  },
  {
   "attachments": {
    "image-2.png": {
     "image/png": "[encoded data removed]"
    },
    "image.png": {
     "image/png": "[encoded data removed]"
    }
   },
   "cell_type": "markdown",
   "id": "895750f7",
   "metadata": {},
   "source": [
    "Note the following rule of broadcasting:\n",
    "\n",
    "<b>Two arrays with different shapes are compatible for broadcasting if for each trailing dimension (i.e., starting from the end) the axis lengths match or if either of the lengths is 1. </b>\n",
    "\n",
    "<b>Broadcasting is then performed over the missing axis or length 1 dimensions.</b>\n",
    "\n",
    "<div>\n",
    "<br>\n",
    "<img src=\"attachment:image.png\" width=\"400\" align=\"left\"/>\n",
    "<img src=\"attachment:image-2.png\" width=\"400\" align=\"right\"/>\n",
    "</div>"
   ]
  },
  {
   "cell_type": "markdown",
   "id": "085dbee4",
   "metadata": {},
   "source": [
    "### Array Indexing and Slicing\n",
    "\n",
    "Array slices are views on the original array, such that changes in values assigned to a slice of array is also reflected on the original array.\n",
    "\n",
    "Boolean indexing can also be done on arrays with the help of the following operators:\n",
    "\n",
    "1. & (and)\n",
    "2. | (or)\n",
    "3. ~ (not)\n",
    "\n",
    "Note that using \"and\", \"or\", \"not\" keywords will not work in boolean indexing of arrays."
   ]
  },
  {
   "cell_type": "code",
   "execution_count": 19,
   "id": "d48605b4",
   "metadata": {},
   "outputs": [
    {
     "data": {
      "text/plain": [
       "(array([2, 3, 4, 5, 6]),\n",
       " array([4, 5, 6]),\n",
       " array([2, 3, 4]),\n",
       " array([3, 4, 5]),\n",
       " array([2, 3, 4, 5]))"
      ]
     },
     "execution_count": 19,
     "metadata": {},
     "output_type": "execute_result"
    }
   ],
   "source": [
    "# Slicing 1-dimensional arrays in various forms\n",
    "arr1, arr1[2:], arr1[:3], arr1[1:4], arr1[:-1]"
   ]
  },
  {
   "cell_type": "code",
   "execution_count": 20,
   "id": "b373400b",
   "metadata": {},
   "outputs": [
    {
     "data": {
      "text/plain": [
       "(array([[5.4, 3.4, 2.1, 4.1, 2.7],\n",
       "        [1.4, 2.6, 1.8, 1.5, 2.4]]),\n",
       " array([1.8, 1.5, 2.4]),\n",
       " array([[5.4, 3.4, 2.1],\n",
       "        [1.4, 2.6, 1.8]]),\n",
       " array([[2.1, 4.1]]))"
      ]
     },
     "execution_count": 20,
     "metadata": {},
     "output_type": "execute_result"
    }
   ],
   "source": [
    "# Slicing 2-dimensional arrays in various forms\n",
    "arr2, arr2[1,2:], arr2[:,:3], arr2[0:1,2:4]"
   ]
  },
  {
   "cell_type": "code",
   "execution_count": 21,
   "id": "2d66e179",
   "metadata": {},
   "outputs": [
    {
     "data": {
      "text/plain": [
       "(array([2, 2, 2]), array([2, 3, 2, 2, 2]))"
      ]
     },
     "execution_count": 21,
     "metadata": {},
     "output_type": "execute_result"
    }
   ],
   "source": [
    "# Overwriting array slice values will also affect the original array\n",
    "arr_slice = arr1[2:]\n",
    "arr_slice[:] = 2.5\n",
    "arr_slice, arr1"
   ]
  },
  {
   "cell_type": "code",
   "execution_count": 22,
   "id": "59d2a04b",
   "metadata": {
    "scrolled": true
   },
   "outputs": [
    {
     "data": {
      "text/plain": [
       "(array([2, 2, 2]), array([2, 3, 4, 5, 6]))"
      ]
     },
     "execution_count": 22,
     "metadata": {},
     "output_type": "execute_result"
    }
   ],
   "source": [
    "# Overwriting array copy values will not affect the original array\n",
    "arr1 = np.array([2,3,4,5,6])\n",
    "arr_slice = arr1[2:].copy()\n",
    "arr_slice[:] = 2.5\n",
    "arr_slice, arr1"
   ]
  },
  {
   "cell_type": "code",
   "execution_count": 23,
   "id": "b1098106",
   "metadata": {},
   "outputs": [
    {
     "data": {
      "text/plain": [
       "array([22, 27, 32, 37, 42, 47])"
      ]
     },
     "execution_count": 23,
     "metadata": {},
     "output_type": "execute_result"
    }
   ],
   "source": [
    "# Boolean indexing with & operator\n",
    "arr4[(arr4 > 20) & (arr4 < 50)]"
   ]
  },
  {
   "cell_type": "code",
   "execution_count": 24,
   "id": "95875c0e",
   "metadata": {},
   "outputs": [
    {
     "data": {
      "text/plain": [
       "array([ 2,  7, 12, 17, 52, 57, 62, 67, 72, 77, 82, 87, 92, 97])"
      ]
     },
     "execution_count": 24,
     "metadata": {},
     "output_type": "execute_result"
    }
   ],
   "source": [
    "# Boolean indexing with &, ~ operator\n",
    "arr4[~((arr4 > 20) & (arr4 < 50))]"
   ]
  },
  {
   "cell_type": "code",
   "execution_count": 25,
   "id": "faba5aac",
   "metadata": {},
   "outputs": [
    {
     "data": {
      "text/plain": [
       "array([ 2,  7, 12, 17, 82, 87, 92, 97])"
      ]
     },
     "execution_count": 25,
     "metadata": {},
     "output_type": "execute_result"
    }
   ],
   "source": [
    "# Boolean indexing with | operator\n",
    "arr4[(arr4 > 80) | (arr4 < 20)]"
   ]
  },
  {
   "cell_type": "markdown",
   "id": "3bfd3516",
   "metadata": {},
   "source": [
    "### Array shape transformation\n",
    "\n",
    "Shapes of arrays can either be transformed by transposing it (swap axis dimensions) or reshaping it (specify new array dimension)."
   ]
  },
  {
   "cell_type": "code",
   "execution_count": 26,
   "id": "99a8b7ae",
   "metadata": {},
   "outputs": [
    {
     "data": {
      "text/plain": [
       "array([[5.4, 1.4],\n",
       "       [3.4, 2.6],\n",
       "       [2.1, 1.8],\n",
       "       [4.1, 1.5],\n",
       "       [2.7, 2.4]])"
      ]
     },
     "execution_count": 26,
     "metadata": {},
     "output_type": "execute_result"
    }
   ],
   "source": [
    "# Transposing arrays (swap axis dimensions)\n",
    "arr2.T"
   ]
  },
  {
   "cell_type": "code",
   "execution_count": 27,
   "id": "8e4a6af2",
   "metadata": {},
   "outputs": [
    {
     "data": {
      "text/plain": [
       "array([[5.4],\n",
       "       [3.4],\n",
       "       [2.1],\n",
       "       [4.1],\n",
       "       [2.7],\n",
       "       [1.4],\n",
       "       [2.6],\n",
       "       [1.8],\n",
       "       [1.5],\n",
       "       [2.4]])"
      ]
     },
     "execution_count": 27,
     "metadata": {},
     "output_type": "execute_result"
    }
   ],
   "source": [
    "# Reshaping arrays (specify new array dimension)\n",
    "arr2.reshape((10,1))"
   ]
  },
  {
   "cell_type": "markdown",
   "id": "a4ee08b7",
   "metadata": {},
   "source": [
    "### Numpy Universal Functions\n",
    "\n",
    "Numpy has many universal functions that perform element-wise operations on data in ndarrays.\n",
    "\n",
    "Numpy's universal functions consists of but not limited to the following:"
   ]
  },
  {
   "cell_type": "code",
   "execution_count": 28,
   "id": "a036324e",
   "metadata": {},
   "outputs": [],
   "source": [
    "arr1 = [2, -3, -5, 6]\n",
    "arr2 = [-4, 2, -3, 2]"
   ]
  },
  {
   "cell_type": "code",
   "execution_count": 29,
   "id": "46361c12",
   "metadata": {
    "scrolled": true
   },
   "outputs": [
    {
     "name": "stdout",
     "output_type": "stream",
     "text": [
      "First array: [2, -3, -5, 6]\n",
      "Second array: [-4, 2, -3, 2]\n",
      "Absolute value: [2 3 5 6]\n",
      "Square root: [1.41421356 1.73205081 2.23606798 2.44948974]\n",
      "Square: [ 4  9 25 36]\n",
      "Exponential: [0.01831564 7.3890561  0.04978707 7.3890561 ]\n",
      "Natural Logarithm: [0.69314718 1.09861229 1.60943791 1.79175947]\n",
      "Sign of values: [ 1 -1 -1  1]\n",
      "Ceiling value: [1. 2. 2. 2.]\n",
      "Floor value: [0. 1. 1. 1.]\n",
      "Remainder and whole value: (array([ 0.45,  0.65, -0.56,  0.23]), array([ 2.,  3., -2.,  1.]))\n"
     ]
    }
   ],
   "source": [
    "print(\"First array:\",arr1)\n",
    "print(\"Second array:\",arr2)\n",
    "print(\"Absolute value:\",np.abs(arr1))\n",
    "print(\"Square root:\",np.sqrt(np.abs(arr1)))\n",
    "print(\"Square:\",np.square(arr1))\n",
    "print(\"Exponential:\",np.exp(arr2))\n",
    "print(\"Natural Logarithm:\",np.log(np.abs(arr1)))\n",
    "print(\"Sign of values:\",np.sign(arr1)) # (1 for positive, -1 for negative and 0 for zero)\n",
    "print(\"Ceiling value:\",np.ceil(np.log(np.abs(arr1)))) #Lowest integer value that is greater than or equal to specified value\n",
    "print(\"Floor value:\",np.floor(np.log(np.abs(arr1)))) #Lowest integer value that is less than or equal to specified value\n",
    "print(\"Remainder and whole value:\",np.modf([2.45,3.65,-2.56,1.23])) # Remainder and whole part of every element as two seperate arrays"
   ]
  },
  {
   "cell_type": "code",
   "execution_count": 30,
   "id": "dbbe7bda",
   "metadata": {},
   "outputs": [
    {
     "name": "stdout",
     "output_type": "stream",
     "text": [
      "First array: [2, -3, -5, 6]\n",
      "Second array: [-4, 2, -3, 2]\n",
      "Adding two arrays: [-2 -1 -8  8]\n",
      "Subtracting two arrays: [ 6 -5 -2  4]\n",
      "Multiply two arrays: [-8 -6 15 12]\n",
      "Divide two arrays: [-0.5        -1.5         1.66666667  3.        ]\n",
      "Divide two arrays (Floor division): [-1 -2  1  3]\n",
      "Power of two arrays: [  16    9 -125   36]\n",
      "Maximum value between two arrays: [ 2  2 -3  6]\n",
      "Minimum value between two arrays: [-4 -3 -5  2]\n",
      "Remainder from dividing two arrays: [-2  1 -2  0]\n"
     ]
    }
   ],
   "source": [
    "print(\"First array:\",arr1)\n",
    "print(\"Second array:\",arr2)\n",
    "print(\"Adding two arrays:\",np.add(arr1, arr2))\n",
    "print(\"Subtracting two arrays:\",np.subtract(arr1, arr2))\n",
    "print(\"Multiply two arrays:\",np.multiply(arr1, arr2))\n",
    "print(\"Divide two arrays:\",np.divide(arr1, arr2))\n",
    "print(\"Divide two arrays (Floor division):\",np.floor_divide(arr1, arr2))\n",
    "print(\"Power of two arrays:\",np.power(arr1,np.abs(arr2)))\n",
    "print(\"Maximum value between two arrays:\",np.maximum(arr1,arr2))\n",
    "print(\"Minimum value between two arrays:\",np.minimum(arr1,arr2))\n",
    "print(\"Remainder from dividing two arrays:\",np.mod(arr1, arr2))"
   ]
  },
  {
   "cell_type": "code",
   "execution_count": 31,
   "id": "b5471fd0",
   "metadata": {},
   "outputs": [
    {
     "name": "stdout",
     "output_type": "stream",
     "text": [
      "First array: [2, 5, -3, 0]\n",
      "Second array: [3, 1, -3, 2]\n",
      "Greater comparison: [False  True False False]\n",
      "Greater or equal comparison: [False  True  True False]\n",
      "Less comparison: [ True False False  True]\n",
      "Less or equal comparison: [ True False  True  True]\n",
      "Equal comparison: [False False  True False]\n",
      "Not equal comparison: [ True  True False  True]\n"
     ]
    }
   ],
   "source": [
    "# Boolean indexing with universal functions\n",
    "print(\"First array:\",[2,5,-3,0])\n",
    "print(\"Second array:\",[3,1,-3,2])\n",
    "print(\"Greater comparison:\",np.greater([2,5,-3,0],[3,1,-3,2]))\n",
    "print(\"Greater or equal comparison:\",np.greater_equal([2,5,-3,0],[3,1,-3,2]))\n",
    "print(\"Less comparison:\",np.less([2,5,-3,0],[3,1,-3,2]))\n",
    "print(\"Less or equal comparison:\",np.less_equal([2,5,-3,0],[3,1,-3,2]))\n",
    "print(\"Equal comparison:\",np.equal([2,5,-3,0],[3,1,-3,2]))\n",
    "print(\"Not equal comparison:\",np.not_equal([2,5,-3,0],[3,1,-3,2]))"
   ]
  },
  {
   "cell_type": "markdown",
   "id": "f08b1e70",
   "metadata": {},
   "source": [
    "### Other array-oriented numpy functions"
   ]
  },
  {
   "cell_type": "code",
   "execution_count": 32,
   "id": "94857ee2",
   "metadata": {},
   "outputs": [
    {
     "data": {
      "text/plain": [
       "array([[['More', '123', 'More'],\n",
       "        ['123', '45', 'More'],\n",
       "        ['More', 'More', 'More']],\n",
       "\n",
       "       [['More', '11', 'More'],\n",
       "        ['More', '23', 'More'],\n",
       "        ['61', '74', '56']]], dtype='<U11')"
      ]
     },
     "execution_count": 32,
     "metadata": {},
     "output_type": "execute_result"
    }
   ],
   "source": [
    "# Producing new array of values based on values of other arrays\n",
    "np.where(arr3>200, \"More\", arr3)"
   ]
  },
  {
   "cell_type": "markdown",
   "id": "be854439",
   "metadata": {},
   "source": [
    "Note that 2nd argument of np.where() function is used for true condition and 3rd argument is for false condition."
   ]
  },
  {
   "cell_type": "code",
   "execution_count": 33,
   "id": "9a39e6e8",
   "metadata": {
    "scrolled": true
   },
   "outputs": [
    {
     "name": "stdout",
     "output_type": "stream",
     "text": [
      "Original array: [ 2  7 12 17 22 27 32 37 42 47 52 57 62 67 72 77 82 87 92 97]\n",
      "Sum of array values: 990\n",
      "Mean of array values: 49.5\n",
      "Median of array values: 49.5\n",
      "Standard Deviation of array values: 28.83140648667699\n",
      "Variance of array values: 831.25\n",
      "Minimum of array values: 2\n",
      "Maximum of array values: 97\n",
      "Index of Minimum of array values: 0\n",
      "Index of Maximum of array values: 19\n"
     ]
    }
   ],
   "source": [
    "# Statistical numpy functions\n",
    "print(\"Original array:\", arr4)\n",
    "print(\"Sum of array values:\",np.sum(arr4))\n",
    "print(\"Mean of array values:\",np.mean(arr4))\n",
    "print(\"Median of array values:\",np.median(arr4))\n",
    "print(\"Standard Deviation of array values:\",np.std(arr4))\n",
    "print(\"Variance of array values:\",np.var(arr4))\n",
    "print(\"Minimum of array values:\",np.min(arr4))\n",
    "print(\"Maximum of array values:\",np.max(arr4))\n",
    "print(\"Index of Minimum of array values:\",np.argmin(arr4))\n",
    "print(\"Index of Maximum of array values:\",np.argmax(arr4))"
   ]
  },
  {
   "cell_type": "code",
   "execution_count": 34,
   "id": "e5c1deb8",
   "metadata": {},
   "outputs": [
    {
     "name": "stdout",
     "output_type": "stream",
     "text": [
      "Cumulative sum of array values: [  2   9  21  38  60  87 119 156 198 245 297 354 416 483 555 632 714 801\n",
      " 893 990]\n",
      "Cumulative product of array values: [          2          14         168        2856       62832     1696464\n",
      "    54286848  2008613376 -1537584128   747990016   240775168   839282688\n",
      "   495919104 -1133158400    16973824  1306984448  -201457664  -346947584\n",
      " -1854406656   511180800]\n"
     ]
    }
   ],
   "source": [
    "print(\"Cumulative sum of array values:\",np.cumsum(arr4))\n",
    "print(\"Cumulative product of array values:\",np.cumprod(arr4))"
   ]
  },
  {
   "cell_type": "markdown",
   "id": "b7062f4d",
   "metadata": {},
   "source": [
    "Note that all statistical numpy functions by default compute operations over flattened array, unless axis argument is specified."
   ]
  },
  {
   "cell_type": "code",
   "execution_count": 35,
   "id": "4aa36918",
   "metadata": {},
   "outputs": [
    {
     "name": "stdout",
     "output_type": "stream",
     "text": [
      "Any value in array returns True: True\n",
      "All values in array returns True: False\n"
     ]
    }
   ],
   "source": [
    "# Boolean array methods\n",
    "boolean = np.array([True, False, False, True])\n",
    "print(\"Any value in array returns True:\",boolean.any())\n",
    "print(\"All values in array returns True:\",boolean.all())"
   ]
  },
  {
   "cell_type": "code",
   "execution_count": 36,
   "id": "0608354d",
   "metadata": {},
   "outputs": [
    {
     "data": {
      "text/plain": [
       "[2, 2, -3, -4]"
      ]
     },
     "execution_count": 36,
     "metadata": {},
     "output_type": "execute_result"
    }
   ],
   "source": [
    "# Sorting array methods (Does not return a copy)\n",
    "arr2.sort(reverse=True)\n",
    "arr2"
   ]
  },
  {
   "cell_type": "code",
   "execution_count": 37,
   "id": "31f9752b",
   "metadata": {},
   "outputs": [
    {
     "data": {
      "text/plain": [
       "array([-5, -3,  2,  6])"
      ]
     },
     "execution_count": 37,
     "metadata": {},
     "output_type": "execute_result"
    }
   ],
   "source": [
    "# Sorting array function (returns a copy in ascending order)\n",
    "np.sort(arr1)"
   ]
  },
  {
   "cell_type": "code",
   "execution_count": 38,
   "id": "19897941",
   "metadata": {},
   "outputs": [
    {
     "name": "stdout",
     "output_type": "stream",
     "text": [
      "First array: [2, -3, -5, 6]\n",
      "Second array: [2, 2, -3, -4]\n",
      "Array with unique values: [-4 -3  2]\n",
      "Array intersection: [-3  2]\n",
      "Array union: [-5 -4 -3  2  6]\n",
      "Array left outer join: [-5  6]\n",
      "Array (excluding intersection) [-5 -4  6]\n",
      "Boolean array of elements from first array contained in second array: [ True  True False False]\n"
     ]
    }
   ],
   "source": [
    "# Set numpy functions\n",
    "print(\"First array:\",arr1)\n",
    "print(\"Second array:\",arr2)\n",
    "print(\"Array with unique values:\",np.unique(arr2))\n",
    "print(\"Array intersection:\",np.intersect1d(arr1,arr2))\n",
    "print(\"Array union:\",np.union1d(arr1,arr2))\n",
    "print(\"Array left outer join:\",np.setdiff1d(arr1,arr2))\n",
    "print(\"Array (excluding intersection)\",np.setxor1d(arr1,arr2))\n",
    "print(\"Boolean array of elements from first array contained in second array:\",np.in1d(arr1,arr2))"
   ]
  },
  {
   "cell_type": "code",
   "execution_count": 39,
   "id": "de42eabd",
   "metadata": {},
   "outputs": [],
   "source": [
    "# Saving single array object\n",
    "np.save(\"first_array\",arr1)"
   ]
  },
  {
   "cell_type": "code",
   "execution_count": 40,
   "id": "73e6fa28",
   "metadata": {},
   "outputs": [
    {
     "data": {
      "text/plain": [
       "array([ 2, -3, -5,  6])"
      ]
     },
     "execution_count": 40,
     "metadata": {},
     "output_type": "execute_result"
    }
   ],
   "source": [
    "# Loading single array object\n",
    "np.load(\"first_array.npy\")"
   ]
  },
  {
   "cell_type": "code",
   "execution_count": 41,
   "id": "ee0d417b",
   "metadata": {},
   "outputs": [],
   "source": [
    "# Saving multiple array objects in uncompressed format\n",
    "np.savez(\"array_objects_uncompressed\",first=arr1,second=arr2,third=arr3)\n",
    "\n",
    "# Saving multiple array objects in compressed format\n",
    "np.savez_compressed(\"array_objects_compressed\",first=arr1,second=arr2,third=arr3)"
   ]
  },
  {
   "cell_type": "code",
   "execution_count": 42,
   "id": "a876866f",
   "metadata": {
    "scrolled": true
   },
   "outputs": [
    {
     "data": {
      "text/plain": [
       "(array([ 2, -3, -5,  6]),\n",
       " array([ 2,  2, -3, -4]),\n",
       " array([[[245, 123, 267],\n",
       "         [123,  45, 356],\n",
       "         [234, 265, 765]],\n",
       " \n",
       "        [[234,  11, 321],\n",
       "         [562,  23, 432],\n",
       "         [ 61,  74,  56]]]))"
      ]
     },
     "execution_count": 42,
     "metadata": {},
     "output_type": "execute_result"
    }
   ],
   "source": [
    "# Loading multiple array objects (individual arrays can be accessed in dictionary form)\n",
    "load = np.load(\"array_objects_compressed.npz\")\n",
    "load['first'], load['second'], load['third']"
   ]
  },
  {
   "cell_type": "markdown",
   "id": "fe02559f",
   "metadata": {},
   "source": [
    "Random samples from given distributions can also be generated using several functions from np.random as follows (but not limited to the following):"
   ]
  },
  {
   "cell_type": "code",
   "execution_count": 43,
   "id": "0548fcfe",
   "metadata": {},
   "outputs": [
    {
     "data": {
      "text/plain": [
       "array([[0.8634232 , 0.76298977, 0.63075693],\n",
       "       [0.62930598, 0.98314141, 0.57933684],\n",
       "       [0.36020306, 0.03197587, 0.12424035]])"
      ]
     },
     "execution_count": 43,
     "metadata": {},
     "output_type": "execute_result"
    }
   ],
   "source": [
    "# Generate random values between 0 and 1 at specified dimension\n",
    "np.random.rand(3,3)"
   ]
  },
  {
   "cell_type": "code",
   "execution_count": 44,
   "id": "7fa87154",
   "metadata": {},
   "outputs": [
    {
     "data": {
      "text/plain": [
       "array([[ 1.09500296, -0.11629458, -1.4753114 ],\n",
       "       [-1.90152733, -1.26260037,  0.49278828],\n",
       "       [-0.16974993, -1.15908179, -1.30911038]])"
      ]
     },
     "execution_count": 44,
     "metadata": {},
     "output_type": "execute_result"
    }
   ],
   "source": [
    "# Generate random values from standard normal distribution at specified dimension\n",
    "np.random.randn(3,3)"
   ]
  },
  {
   "cell_type": "code",
   "execution_count": 45,
   "id": "502b9e0a",
   "metadata": {},
   "outputs": [
    {
     "data": {
      "text/plain": [
       "array([[ 8,  4,  4],\n",
       "       [ 6,  2,  4],\n",
       "       [ 8, 10, 10]])"
      ]
     },
     "execution_count": 45,
     "metadata": {},
     "output_type": "execute_result"
    }
   ],
   "source": [
    "# Generate values from specific list at random with specified dimension\n",
    "np.random.choice([2,4,6,8,10],(3,3))"
   ]
  },
  {
   "cell_type": "code",
   "execution_count": 46,
   "id": "84a76d84",
   "metadata": {},
   "outputs": [
    {
     "data": {
      "text/plain": [
       "array([[8, 9, 4],\n",
       "       [2, 7, 8]])"
      ]
     },
     "execution_count": 46,
     "metadata": {},
     "output_type": "execute_result"
    }
   ],
   "source": [
    "# Generate integers from specified range at random with specified dimension\n",
    "np.random.randint(2,10,(2,3))"
   ]
  }
 ],
 "metadata": {
  "hide_input": false,
  "kernelspec": {
   "display_name": "Python 3 (ipykernel)",
   "language": "python",
   "name": "python3"
  },
  "language_info": {
   "codemirror_mode": {
    "name": "ipython",
    "version": 3
   },
   "file_extension": ".py",
   "mimetype": "text/x-python",
   "name": "python",
   "nbconvert_exporter": "python",
   "pygments_lexer": "ipython3",
   "version": "3.8.11"
  },
  "toc": {
   "base_numbering": 1,
   "nav_menu": {},
   "number_sections": false,
   "sideBar": true,
   "skip_h1_title": false,
   "title_cell": "Table of Contents",
   "title_sidebar": "Contents",
   "toc_cell": false,
   "toc_position": {},
   "toc_section_display": true,
   "toc_window_display": false
  },
  "varInspector": {
   "cols": {
    "lenName": 16,
    "lenType": 16,
    "lenVar": 40
   },
   "kernels_config": {
    "python": {
     "delete_cmd_postfix": "",
     "delete_cmd_prefix": "del ",
     "library": "var_list.py",
     "varRefreshCmd": "print(var_dic_list())"
    },
    "r": {
     "delete_cmd_postfix": ") ",
     "delete_cmd_prefix": "rm(",
     "library": "var_list.r",
     "varRefreshCmd": "cat(var_dic_list()) "
    }
   },
   "types_to_exclude": [
    "module",
    "function",
    "builtin_function_or_method",
    "instance",
    "_Feature"
   ],
   "window_display": false
  }
 },
 "nbformat": 4,
 "nbformat_minor": 5
}
