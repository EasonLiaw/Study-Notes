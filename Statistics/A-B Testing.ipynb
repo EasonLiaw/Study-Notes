{
 "cells": [
  {
   "cell_type": "markdown",
   "id": "dda1ebba",
   "metadata": {},
   "source": [
    "## A/B Testing\n",
    "\n",
    "A/B Testing is an experiment with two groups to establish which group is superior over the other group.\n",
    "\n",
    "Typically, A/B testing consists of treatment group and control group.\n",
    "\n",
    "A/B testing is mostly used in web design, marketing and e-commerce.\n",
    "\n",
    "Prior to A/B testing, a metric measure needs to be defined upfront to avoid bias."
   ]
  },
  {
   "cell_type": "code",
   "execution_count": 1,
   "id": "895a7ede",
   "metadata": {},
   "outputs": [],
   "source": [
    "import pandas as pd\n",
    "import numpy as np\n",
    "import scipy.stats as st"
   ]
  },
  {
   "cell_type": "code",
   "execution_count": 2,
   "id": "70847b9b",
   "metadata": {
    "scrolled": false
   },
   "outputs": [
    {
     "name": "stdout",
     "output_type": "stream",
     "text": [
      "<class 'pandas.core.frame.DataFrame'>\n",
      "RangeIndex: 600 entries, 0 to 599\n",
      "Data columns (total 6 columns):\n",
      " #   Column           Non-Null Count  Dtype \n",
      "---  ------           --------------  ----- \n",
      " 0   Undergrad        600 non-null    object\n",
      " 1   Marital.Status   600 non-null    object\n",
      " 2   Taxable.Income   600 non-null    int64 \n",
      " 3   City.Population  600 non-null    int64 \n",
      " 4   Work.Experience  600 non-null    int64 \n",
      " 5   Urban            600 non-null    object\n",
      "dtypes: int64(3), object(3)\n",
      "memory usage: 28.2+ KB\n"
     ]
    }
   ],
   "source": [
    "data = pd.read_csv('Fraud_check.csv')\n",
    "data.info()"
   ]
  },
  {
   "cell_type": "code",
   "execution_count": 3,
   "id": "84c2c997",
   "metadata": {
    "scrolled": true
   },
   "outputs": [
    {
     "name": "stdout",
     "output_type": "stream",
     "text": [
      "<class 'pandas.core.frame.DataFrame'>\n",
      "Int64Index: 600 entries, 0 to 599\n",
      "Data columns (total 8 columns):\n",
      " #   Column                   Non-Null Count  Dtype\n",
      "---  ------                   --------------  -----\n",
      " 0   Taxable.Income           600 non-null    int64\n",
      " 1   City.Population          600 non-null    int64\n",
      " 2   Work.Experience          600 non-null    int64\n",
      " 3   Undergrad_YES            600 non-null    uint8\n",
      " 4   Marital.Status_Divorced  600 non-null    uint8\n",
      " 5   Marital.Status_Married   600 non-null    uint8\n",
      " 6   Marital.Status_Single    600 non-null    uint8\n",
      " 7   Urban_YES                600 non-null    uint8\n",
      "dtypes: int64(3), uint8(5)\n",
      "memory usage: 21.7 KB\n"
     ]
    }
   ],
   "source": [
    "sub_data = pd.get_dummies(data).drop_duplicates().drop(['Urban_NO','Undergrad_NO'],axis=1)\n",
    "sub_data.info()"
   ]
  },
  {
   "cell_type": "markdown",
   "id": "fa461644",
   "metadata": {},
   "source": [
    "Two important checks required before AB testing:\n",
    "1. Guardrail Metric Check\n",
    "2. Power test"
   ]
  },
  {
   "attachments": {
    "image.png": {
     "image/png": "[encoded data removed]"
    }
   },
   "cell_type": "markdown",
   "id": "246e5f9e",
   "metadata": {},
   "source": [
    "#### Guardrail Metric Check\n",
    "\n",
    "First check prior to A/B testing is to check for significant difference in proportions between two groups using binomial confidence interval as follows:\n",
    "\n",
    "![image.png](attachment:image.png)\n",
    "\n",
    "For this example, 0 value indicates control group and 1 value indicates treatment group for \"Undergrad_YES\" variable"
   ]
  },
  {
   "cell_type": "code",
   "execution_count": 4,
   "id": "ee28fbde",
   "metadata": {},
   "outputs": [
    {
     "data": {
      "text/plain": [
       "1    0.52\n",
       "0    0.48\n",
       "Name: Undergrad_YES, dtype: float64"
      ]
     },
     "execution_count": 4,
     "metadata": {},
     "output_type": "execute_result"
    }
   ],
   "source": [
    "prop = sub_data['Undergrad_YES'].value_counts()/len(sub_data)\n",
    "prop"
   ]
  },
  {
   "cell_type": "code",
   "execution_count": 5,
   "id": "891d5c50",
   "metadata": {},
   "outputs": [
    {
     "name": "stdout",
     "output_type": "stream",
     "text": [
      "Does the control group proportion 0.48 lie within [0.46 0.54]?\n",
      "Yes\n"
     ]
    }
   ],
   "source": [
    "#Guardrail Check on differences in proportions between two groups:\n",
    "sd = np.sqrt((0.5*(1-0.5))/len(sub_data))\n",
    "CI = np.round((0.5 - sd*st.norm.ppf(1-0.05/2), 0.5 + sd*st.norm.ppf(1-0.05/2)),4)\n",
    "print('Does the control group proportion ' + str(round(prop[0],4)) + ' lie within ' + str(CI) + '?')\n",
    "if prop[0]>CI[0] and prop[0]<CI[1]:\n",
    "    print('Yes')\n",
    "else:\n",
    "    print('No')"
   ]
  },
  {
   "cell_type": "markdown",
   "id": "d80b75f3",
   "metadata": {},
   "source": [
    "From the example above, the guardrail metric is passed such that the number of unique samples is equal for every undergraduate/non-undergraduate group."
   ]
  },
  {
   "attachments": {
    "image.png": {
     "image/png": "[encoded data removed]"
    }
   },
   "cell_type": "markdown",
   "id": "b78e6596",
   "metadata": {},
   "source": [
    "#### Power Test\n",
    "\n",
    "Another check required prior to AB testing is to determine minimum sample size required based on power test.\n",
    "\n",
    "Power is the probability of detecting specified effect size with specified sample characteristics (size and variability). In simple terms, power represents probability of correctly rejecting null hypothesis when alternative hypothesis is actually valid.\n",
    "\n",
    "There are two methods available in Power Test for A/B testing:\n",
    "\n",
    "1. Statistical rule of thumb\n",
    "\n",
    "![image.png](attachment:image.png)\n",
    "\n",
    "2. Evan Miller's calculator"
   ]
  },
  {
   "cell_type": "code",
   "execution_count": 6,
   "id": "fe532f01",
   "metadata": {
    "scrolled": true
   },
   "outputs": [
    {
     "data": {
      "text/plain": [
       "0.5034722222222222"
      ]
     },
     "execution_count": 6,
     "metadata": {},
     "output_type": "execute_result"
    }
   ],
   "source": [
    "# Probability of Urban given sample is not an undergrad (Control group)\n",
    "sub_data[sub_data['Undergrad_YES']==0].Urban_YES.mean()"
   ]
  },
  {
   "cell_type": "code",
   "execution_count": 7,
   "id": "0581b7cf",
   "metadata": {},
   "outputs": [
    {
     "data": {
      "text/plain": [
       "0.5032051282051282"
      ]
     },
     "execution_count": 7,
     "metadata": {},
     "output_type": "execute_result"
    }
   ],
   "source": [
    "# Probability of Urban given sample is an undergrad (Treatment group)\n",
    "sub_data[sub_data['Undergrad_YES']==1].Urban_YES.mean()"
   ]
  },
  {
   "cell_type": "code",
   "execution_count": 8,
   "id": "93d0c436",
   "metadata": {},
   "outputs": [
    {
     "data": {
      "text/plain": [
       "6530.297344417959"
      ]
     },
     "execution_count": 8,
     "metadata": {},
     "output_type": "execute_result"
    }
   ],
   "source": [
    "# Minimum total sample size required to improve current probability of urban (50.3472%) by 3.5%\n",
    "16*(0.503472*(1-0.503472))/pow(0.035,2) * 2"
   ]
  },
  {
   "cell_type": "code",
   "execution_count": 9,
   "id": "74997b76",
   "metadata": {},
   "outputs": [],
   "source": [
    "# Evan Miller's calculator\n",
    "\n",
    "# Calculating the minimum sample size for the ab test:\n",
    "def get_sampSize(sds,alpha,beta,d):\n",
    "    n=pow((st.norm.ppf(1-alpha/2)*sds[0]+st.norm.ppf(1-beta)*sds[1]),2)/pow(d,2)\n",
    "    return n\n",
    "\n",
    "#baseline + expected change standard deviation calculations\n",
    "def get_sds(p,d):\n",
    "    sd1=np.sqrt(2*p*(1-p))\n",
    "    sd2=np.sqrt(p*(1-p)+(p+d)*(1-(p+d)))\n",
    "    sds=[sd1,sd2]\n",
    "    return sds"
   ]
  },
  {
   "cell_type": "code",
   "execution_count": 10,
   "id": "41d627ce",
   "metadata": {},
   "outputs": [
    {
     "data": {
      "text/plain": [
       "6401.285552817009"
      ]
     },
     "execution_count": 10,
     "metadata": {},
     "output_type": "execute_result"
    }
   ],
   "source": [
    "# Minimum total sample size required to improve current probability of urban (50.3472%) by 3.5%\n",
    "get_sampSize(get_sds(0.503472, 0.035),0.05,0.2,0.035)*2"
   ]
  },
  {
   "cell_type": "code",
   "execution_count": 11,
   "id": "d72b5ce8",
   "metadata": {},
   "outputs": [
    {
     "name": "stdout",
     "output_type": "stream",
     "text": [
      "<class 'pandas.core.frame.DataFrame'>\n",
      "Int64Index: 6531 entries, 6 to 35\n",
      "Data columns (total 2 columns):\n",
      " #   Column         Non-Null Count  Dtype\n",
      "---  ------         --------------  -----\n",
      " 0   Undergrad_YES  6531 non-null   uint8\n",
      " 1   Urban_YES      6531 non-null   uint8\n",
      "dtypes: uint8(2)\n",
      "memory usage: 63.8 KB\n"
     ]
    }
   ],
   "source": [
    "# Increasing sample size from 600 to 6531 using bootstrapping method\n",
    "from sklearn.utils import resample\n",
    "sub_dataset = resample(sub_data[['Undergrad_YES','Urban_YES']], n_samples=6531)\n",
    "sub_dataset.info()"
   ]
  },
  {
   "cell_type": "markdown",
   "id": "8adff760",
   "metadata": {},
   "source": [
    "Note that alpha represents significance level, while beta represents power."
   ]
  },
  {
   "cell_type": "markdown",
   "id": "af9fb9bd",
   "metadata": {},
   "source": [
    "There are 5 different methods for testing difference of probability of urban between undergraduates and non-undergraduates:\n",
    "\n",
    "1. Binomial Proportion Confidence Interval\n",
    "2. Z test\n",
    "3. Hypothesis testing on difference in proportions and effect size\n",
    "4. Sign test\n",
    "5. Chi square test"
   ]
  },
  {
   "cell_type": "code",
   "execution_count": 12,
   "id": "ccefc25c",
   "metadata": {},
   "outputs": [
    {
     "name": "stdout",
     "output_type": "stream",
     "text": [
      "95% C.I for Probability of Urban for Undergraduates:  [0.4374 0.5695]\n",
      "95% C.I for Probability of Urban for Non-Undergraduates:  [0.4398 0.5667]\n"
     ]
    }
   ],
   "source": [
    "# Binomial Proportion Confidence Interval\n",
    "N_Undergrad = len(sub_data[sub_data['Undergrad_YES']==0])\n",
    "N_NonUndergrad = len(sub_data[sub_data['Undergrad_YES']==1])\n",
    "P_Undergrad = sub_data[sub_data['Undergrad_YES']==0].Urban_YES.mean()\n",
    "P_NonUndergrad = sub_data[sub_data['Undergrad_YES']==1].Urban_YES.mean()\n",
    "\n",
    "CI_Undergrad = (P_Undergrad - st.norm.ppf(1-0.025/2)*np.sqrt(P_Undergrad*(1-P_Undergrad)/N_Undergrad),P_Undergrad + st.norm.ppf(1-0.025/2)*np.sqrt(P_Undergrad*(1-P_Undergrad)/N_Undergrad))\n",
    "CI_NonUndergrad = (P_NonUndergrad - st.norm.ppf(1-0.025/2)*np.sqrt(P_NonUndergrad*(1-P_NonUndergrad)/N_NonUndergrad),P_NonUndergrad + st.norm.ppf(1-0.025/2)*np.sqrt(P_NonUndergrad*(1-P_NonUndergrad)/N_NonUndergrad))\n",
    "print(\"95% C.I for Probability of Urban for Undergraduates: \",np.round(CI_Undergrad,4))\n",
    "print(\"95% C.I for Probability of Urban for Non-Undergraduates: \",np.round(CI_NonUndergrad,4))"
   ]
  },
  {
   "cell_type": "code",
   "execution_count": null,
   "id": "4b44a7be",
   "metadata": {},
   "outputs": [],
   "source": []
  }
 ],
 "metadata": {
  "hide_input": false,
  "kernelspec": {
   "display_name": "Python 3 (ipykernel)",
   "language": "python",
   "name": "python3"
  },
  "language_info": {
   "codemirror_mode": {
    "name": "ipython",
    "version": 3
   },
   "file_extension": ".py",
   "mimetype": "text/x-python",
   "name": "python",
   "nbconvert_exporter": "python",
   "pygments_lexer": "ipython3",
   "version": "3.8.11"
  },
  "toc": {
   "base_numbering": 1,
   "nav_menu": {},
   "number_sections": false,
   "sideBar": true,
   "skip_h1_title": false,
   "title_cell": "Table of Contents",
   "title_sidebar": "Contents",
   "toc_cell": false,
   "toc_position": {},
   "toc_section_display": true,
   "toc_window_display": false
  },
  "varInspector": {
   "cols": {
    "lenName": 16,
    "lenType": 16,
    "lenVar": 40
   },
   "kernels_config": {
    "python": {
     "delete_cmd_postfix": "",
     "delete_cmd_prefix": "del ",
     "library": "var_list.py",
     "varRefreshCmd": "print(var_dic_list())"
    },
    "r": {
     "delete_cmd_postfix": ") ",
     "delete_cmd_prefix": "rm(",
     "library": "var_list.r",
     "varRefreshCmd": "cat(var_dic_list()) "
    }
   },
   "types_to_exclude": [
    "module",
    "function",
    "builtin_function_or_method",
    "instance",
    "_Feature"
   ],
   "window_display": false
  }
 },
 "nbformat": 4,
 "nbformat_minor": 5
}
